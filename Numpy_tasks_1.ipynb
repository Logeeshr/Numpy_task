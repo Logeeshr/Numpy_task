{
  "cells": [
    {
      "cell_type": "markdown",
      "metadata": {
        "id": "AhP2zSxQU8zR"
      },
      "source": [
        "# Numpy\n",
        "\n"
      ]
    },
    {
      "cell_type": "markdown",
      "metadata": {
        "id": "TLYUnH6PU8zb"
      },
      "source": [
        "#### 1. Import the numpy package under the name `np` (★☆☆) \n",
        "(**hint**: import … as …)"
      ]
    },
    {
      "cell_type": "code",
      "execution_count": 1,
      "metadata": {
        "collapsed": true,
        "id": "DPA7yVj3U8zf"
      },
      "outputs": [],
      "source": [
        "import numpy as np"
      ]
    },
    {
      "cell_type": "markdown",
      "metadata": {
        "id": "K55NYlujU8zh"
      },
      "source": [
        "#### 2. Print the numpy version and the configuration (★☆☆) \n",
        "(**hint**: np.\\_\\_version\\_\\_, np.show\\_config)"
      ]
    },
    {
      "cell_type": "code",
      "execution_count": null,
      "metadata": {
        "id": "jx-KHD8JU8zi",
        "colab": {
          "base_uri": "https://localhost:8080/"
        },
        "outputId": "23f2e65b-5e4e-451d-d6b8-508a4a22a734"
      },
      "outputs": [
        {
          "output_type": "stream",
          "name": "stdout",
          "text": [
            "1.21.6\n",
            "blas_mkl_info:\n",
            "  NOT AVAILABLE\n",
            "blis_info:\n",
            "  NOT AVAILABLE\n",
            "openblas_info:\n",
            "    libraries = ['openblas', 'openblas']\n",
            "    library_dirs = ['/usr/local/lib']\n",
            "    language = c\n",
            "    define_macros = [('HAVE_CBLAS', None)]\n",
            "    runtime_library_dirs = ['/usr/local/lib']\n",
            "blas_opt_info:\n",
            "    libraries = ['openblas', 'openblas']\n",
            "    library_dirs = ['/usr/local/lib']\n",
            "    language = c\n",
            "    define_macros = [('HAVE_CBLAS', None)]\n",
            "    runtime_library_dirs = ['/usr/local/lib']\n",
            "lapack_mkl_info:\n",
            "  NOT AVAILABLE\n",
            "openblas_lapack_info:\n",
            "    libraries = ['openblas', 'openblas']\n",
            "    library_dirs = ['/usr/local/lib']\n",
            "    language = c\n",
            "    define_macros = [('HAVE_CBLAS', None)]\n",
            "    runtime_library_dirs = ['/usr/local/lib']\n",
            "lapack_opt_info:\n",
            "    libraries = ['openblas', 'openblas']\n",
            "    library_dirs = ['/usr/local/lib']\n",
            "    language = c\n",
            "    define_macros = [('HAVE_CBLAS', None)]\n",
            "    runtime_library_dirs = ['/usr/local/lib']\n",
            "Supported SIMD extensions in this NumPy install:\n",
            "    baseline = SSE,SSE2,SSE3\n",
            "    found = SSSE3,SSE41,POPCNT,SSE42,AVX,F16C,FMA3,AVX2\n",
            "    not found = AVX512F,AVX512CD,AVX512_KNL,AVX512_KNM,AVX512_SKX,AVX512_CLX,AVX512_CNL,AVX512_ICL\n",
            "None\n"
          ]
        }
      ],
      "source": [
        "print(np.__version__)\n",
        "print(np.show_config())"
      ]
    },
    {
      "cell_type": "markdown",
      "metadata": {
        "id": "eGdDl5jSU8zj"
      },
      "source": [
        "#### 3. Create a null vector of size 10 (★☆☆) \n",
        "(**hint**: np.zeros)"
      ]
    },
    {
      "cell_type": "code",
      "execution_count": null,
      "metadata": {
        "id": "40XB66yeU8zk",
        "colab": {
          "base_uri": "https://localhost:8080/"
        },
        "outputId": "fb819773-d984-4830-83b8-366e8e94c4e8"
      },
      "outputs": [
        {
          "output_type": "stream",
          "name": "stdout",
          "text": [
            "[0. 0. 0. 0. 0. 0. 0. 0. 0. 0.]\n"
          ]
        }
      ],
      "source": [
        "x = np.zeros(10)\n",
        "print(x)"
      ]
    },
    {
      "cell_type": "markdown",
      "metadata": {
        "id": "AKs2dpu6U8zl"
      },
      "source": [
        "#### 4.  How to find the memory size of any array (★☆☆) \n",
        "(**hint**: size, itemsize)"
      ]
    },
    {
      "cell_type": "code",
      "execution_count": null,
      "metadata": {
        "id": "hJsTc1-2U8zm",
        "colab": {
          "base_uri": "https://localhost:8080/"
        },
        "outputId": "bc8128b6-5ab6-426f-8337-f43ae88880b1"
      },
      "outputs": [
        {
          "output_type": "stream",
          "name": "stdout",
          "text": [
            "10\n"
          ]
        }
      ],
      "source": [
        "print(x.size)"
      ]
    },
    {
      "cell_type": "markdown",
      "metadata": {
        "id": "e99Dx6I4U8zm"
      },
      "source": [
        "#### 5.  How to get the documentation of the numpy add function from the command line? (★☆☆) \n",
        "(**hint**: np.info)"
      ]
    },
    {
      "cell_type": "code",
      "execution_count": null,
      "metadata": {
        "collapsed": true,
        "id": "sRNJwjOoU8zo",
        "colab": {
          "base_uri": "https://localhost:8080/"
        },
        "outputId": "2eef7bcb-982c-4ff5-ca95-a82c8f840ea2"
      },
      "outputs": [
        {
          "output_type": "stream",
          "name": "stdout",
          "text": [
            "add(x1, x2, /, out=None, *, where=True, casting='same_kind', order='K', dtype=None, subok=True[, signature, extobj])\n",
            "\n",
            "Add arguments element-wise.\n",
            "\n",
            "Parameters\n",
            "----------\n",
            "x1, x2 : array_like\n",
            "    The arrays to be added.\n",
            "    If ``x1.shape != x2.shape``, they must be broadcastable to a common\n",
            "    shape (which becomes the shape of the output).\n",
            "out : ndarray, None, or tuple of ndarray and None, optional\n",
            "    A location into which the result is stored. If provided, it must have\n",
            "    a shape that the inputs broadcast to. If not provided or None,\n",
            "    a freshly-allocated array is returned. A tuple (possible only as a\n",
            "    keyword argument) must have length equal to the number of outputs.\n",
            "where : array_like, optional\n",
            "    This condition is broadcast over the input. At locations where the\n",
            "    condition is True, the `out` array will be set to the ufunc result.\n",
            "    Elsewhere, the `out` array will retain its original value.\n",
            "    Note that if an uninitialized `out` array is created via the default\n",
            "    ``out=None``, locations within it where the condition is False will\n",
            "    remain uninitialized.\n",
            "**kwargs\n",
            "    For other keyword-only arguments, see the\n",
            "    :ref:`ufunc docs <ufuncs.kwargs>`.\n",
            "\n",
            "Returns\n",
            "-------\n",
            "add : ndarray or scalar\n",
            "    The sum of `x1` and `x2`, element-wise.\n",
            "    This is a scalar if both `x1` and `x2` are scalars.\n",
            "\n",
            "Notes\n",
            "-----\n",
            "Equivalent to `x1` + `x2` in terms of array broadcasting.\n",
            "\n",
            "Examples\n",
            "--------\n",
            ">>> np.add(1.0, 4.0)\n",
            "5.0\n",
            ">>> x1 = np.arange(9.0).reshape((3, 3))\n",
            ">>> x2 = np.arange(3.0)\n",
            ">>> np.add(x1, x2)\n",
            "array([[  0.,   2.,   4.],\n",
            "       [  3.,   5.,   7.],\n",
            "       [  6.,   8.,  10.]])\n",
            "\n",
            "The ``+`` operator can be used as a shorthand for ``np.add`` on ndarrays.\n",
            "\n",
            ">>> x1 = np.arange(9.0).reshape((3, 3))\n",
            ">>> x2 = np.arange(3.0)\n",
            ">>> x1 + x2\n",
            "array([[ 0.,  2.,  4.],\n",
            "       [ 3.,  5.,  7.],\n",
            "       [ 6.,  8., 10.]])\n",
            "None\n"
          ]
        }
      ],
      "source": [
        "print(np.info(np.add))"
      ]
    },
    {
      "cell_type": "markdown",
      "metadata": {
        "id": "2hRDZb5yU8zo"
      },
      "source": [
        "#### 6.  Create a null vector of size 10 but the fifth value which is 1 (★☆☆) \n",
        "(**hint**: array\\[4\\])"
      ]
    },
    {
      "cell_type": "code",
      "execution_count": null,
      "metadata": {
        "id": "ORFtukVvU8zp",
        "colab": {
          "base_uri": "https://localhost:8080/"
        },
        "outputId": "497352cb-090e-4c9c-f0d8-78be66a87504"
      },
      "outputs": [
        {
          "output_type": "stream",
          "name": "stdout",
          "text": [
            "[0. 0. 0. 0. 0. 1. 0. 0. 0. 0.]\n"
          ]
        }
      ],
      "source": [
        "x = np.zeros(10)\n",
        "x[5] = 1\n",
        "print(x)"
      ]
    },
    {
      "cell_type": "markdown",
      "metadata": {
        "id": "fVTcJV-AU8zr"
      },
      "source": [
        "#### 7.  Create a vector with values ranging from 10 to 49 (★☆☆) \n",
        "(**hint**: np.arange)"
      ]
    },
    {
      "cell_type": "code",
      "execution_count": null,
      "metadata": {
        "id": "dFvLtQbUU8zs",
        "colab": {
          "base_uri": "https://localhost:8080/"
        },
        "outputId": "148b7187-317b-48a6-8085-2171ea74c776"
      },
      "outputs": [
        {
          "output_type": "stream",
          "name": "stdout",
          "text": [
            "[10 11 12 13 14 15 16 17 18 19 20 21 22 23 24 25 26 27 28 29 30 31 32 33\n",
            " 34 35 36 37 38 39 40 41 42 43 44 45 46 47 48]\n"
          ]
        }
      ],
      "source": [
        "y = np.arange(10,49)\n",
        "print(y)"
      ]
    },
    {
      "cell_type": "markdown",
      "metadata": {
        "id": "GLUCD4S-U8zt"
      },
      "source": [
        "#### 8.  Reverse a vector (first element becomes last) (★☆☆) \n",
        "(**hint**: array\\[::-1\\])"
      ]
    },
    {
      "cell_type": "code",
      "execution_count": null,
      "metadata": {
        "id": "SUXZXtFgU8zv",
        "colab": {
          "base_uri": "https://localhost:8080/"
        },
        "outputId": "08774213-cad8-4ecb-e185-525c5e651a97"
      },
      "outputs": [
        {
          "output_type": "stream",
          "name": "stdout",
          "text": [
            "[48 47 46 45 44 43 42 41 40 39 38 37 36 35 34 33 32 31 30 29 28 27 26 25\n",
            " 24 23 22 21 20 19 18 17 16 15 14 13 12 11 10]\n"
          ]
        }
      ],
      "source": [
        "y = y[::-1]\n",
        "print(y)\n",
        "     "
      ]
    },
    {
      "cell_type": "markdown",
      "metadata": {
        "id": "gZZNZcETU8zv"
      },
      "source": [
        "#### 9.  Create a 3x3 matrix with values ranging from 0 to 8 (★☆☆) \n",
        "(**hint**: reshape)"
      ]
    },
    {
      "cell_type": "code",
      "execution_count": null,
      "metadata": {
        "id": "9IQ8RzehU8zw",
        "colab": {
          "base_uri": "https://localhost:8080/"
        },
        "outputId": "863fe3c7-c2b2-4fef-e32a-d5f82c400e23"
      },
      "outputs": [
        {
          "output_type": "stream",
          "name": "stdout",
          "text": [
            "[[0 1 2]\n",
            " [3 4 5]\n",
            " [6 7 8]]\n"
          ]
        }
      ],
      "source": [
        "z=np.arange(0,9).reshape(3,3)\n",
        "print(z)"
      ]
    },
    {
      "cell_type": "markdown",
      "metadata": {
        "id": "ZLoNO2cBU8zx"
      },
      "source": [
        "#### 10. Find indices of non-zero elements from \\[1,2,0,0,4,0\\] (★☆☆) \n",
        "(**hint**: np.nonzero)"
      ]
    },
    {
      "cell_type": "code",
      "execution_count": null,
      "metadata": {
        "id": "IRzmEUoVU8zy",
        "colab": {
          "base_uri": "https://localhost:8080/"
        },
        "outputId": "1035487d-4c8b-42c8-80e7-d0815496ddab"
      },
      "outputs": [
        {
          "output_type": "stream",
          "name": "stdout",
          "text": [
            "(array([0, 1, 4]),)\n"
          ]
        }
      ],
      "source": [
        "s = np.nonzero([1,2,0,0,4,0])\n",
        "print(s)"
      ]
    },
    {
      "cell_type": "markdown",
      "metadata": {
        "id": "q1fOmXFxU8zz"
      },
      "source": [
        "#### 11. Create a 3x3 identity matrix (★☆☆) \n",
        "(**hint**: np.eye)"
      ]
    },
    {
      "cell_type": "code",
      "execution_count": null,
      "metadata": {
        "id": "tjWZbOQTU8zz",
        "colab": {
          "base_uri": "https://localhost:8080/"
        },
        "outputId": "c65c806d-8922-473e-a2ab-b2eee3f3bd2b"
      },
      "outputs": [
        {
          "output_type": "stream",
          "name": "stdout",
          "text": [
            "[[1. 0. 0.]\n",
            " [0. 1. 0.]\n",
            " [0. 0. 1.]]\n"
          ]
        }
      ],
      "source": [
        "a=np.identity(3)\n",
        "print(a)"
      ]
    },
    {
      "cell_type": "markdown",
      "metadata": {
        "id": "3Oi_Dr0CU8z0"
      },
      "source": [
        "#### 12. Create a 3x3x3 array with random values (★☆☆) \n",
        "(**hint**: np.random.random)"
      ]
    },
    {
      "cell_type": "code",
      "execution_count": 8,
      "metadata": {
        "collapsed": true,
        "id": "KmV53VF0U8z1",
        "colab": {
          "base_uri": "https://localhost:8080/"
        },
        "outputId": "3f867837-9843-423a-a523-6649d66fbe92"
      },
      "outputs": [
        {
          "output_type": "stream",
          "name": "stdout",
          "text": [
            "[[[0.73927152 0.25258398 0.7428051 ]\n",
            "  [0.78658665 0.52682121 0.40772398]\n",
            "  [0.67874095 0.34519654 0.30759983]]\n",
            "\n",
            " [[0.6813273  0.60487324 0.74318576]\n",
            "  [0.56909593 0.06649802 0.55401278]\n",
            "  [0.00742332 0.23669955 0.89901824]]\n",
            "\n",
            " [[0.22257842 0.16957821 0.77416945]\n",
            "  [0.8780285  0.01523248 0.72705978]\n",
            "  [0.27602147 0.77350252 0.01002557]]]\n"
          ]
        }
      ],
      "source": [
        "b = np.random.random((3,3,3))\n",
        "print(b)\n",
        "     "
      ]
    },
    {
      "cell_type": "markdown",
      "metadata": {
        "id": "Xd8YsUKOU8z1"
      },
      "source": [
        "#### 13. Create a 10x10 array with random values and find the minimum and maximum values (★☆☆) \n",
        "(**hint**: min, max)"
      ]
    },
    {
      "cell_type": "code",
      "execution_count": null,
      "metadata": {
        "id": "QzFFCetKU8z2",
        "colab": {
          "base_uri": "https://localhost:8080/"
        },
        "outputId": "6db48d4b-2d44-49ca-8da1-26e0473aeaef"
      },
      "outputs": [
        {
          "output_type": "stream",
          "name": "stdout",
          "text": [
            "[[0.4794108  0.90504228 0.33904925 0.75176811 0.33548089 0.8530885\n",
            "  0.75016727 0.05864907 0.18341484 0.49692776]\n",
            " [0.05651655 0.56738001 0.64260928 0.35978091 0.88203896 0.95906927\n",
            "  0.98167306 0.8973335  0.1331509  0.43992314]\n",
            " [0.63381091 0.25303569 0.69630572 0.92193287 0.27512812 0.2292784\n",
            "  0.57868927 0.35709867 0.79530917 0.30143707]\n",
            " [0.58727289 0.38061345 0.20795738 0.34592768 0.62802637 0.29649903\n",
            "  0.19452627 0.27301987 0.36864086 0.88892153]\n",
            " [0.97948213 0.28694551 0.240052   0.53819151 0.52299447 0.25003035\n",
            "  0.44020747 0.59198939 0.50393624 0.52952274]\n",
            " [0.89192117 0.11264021 0.92304905 0.53747253 0.35121216 0.03964162\n",
            "  0.84149728 0.2228485  0.55544646 0.93761698]\n",
            " [0.80876951 0.73762207 0.54906871 0.39122723 0.10668201 0.58680768\n",
            "  0.29309481 0.66681813 0.60343635 0.72169869]\n",
            " [0.12660957 0.84169256 0.49556839 0.36450587 0.76435843 0.03379738\n",
            "  0.33813461 0.67962218 0.36883302 0.35806816]\n",
            " [0.25091474 0.65321914 0.31225203 0.5765265  0.17368933 0.70215327\n",
            "  0.47549545 0.97808012 0.87536127 0.64114485]\n",
            " [0.18167878 0.86215806 0.05538143 0.74141366 0.26116588 0.13009319\n",
            "  0.78244215 0.68317615 0.51072643 0.76745965]]\n",
            "min_val: 0.03379737622598611\n",
            "max_val: 0.9816730582824108\n"
          ]
        }
      ],
      "source": [
        "random_val = np.random.random((10,10))\n",
        "print(random_val)\n",
        "min = random_val.min()\n",
        "max = random_val.max()\n",
        "print(\"min_val:\",min)\n",
        "print(\"max_val:\",max)"
      ]
    },
    {
      "cell_type": "markdown",
      "metadata": {
        "id": "HWPpxASJU8z3"
      },
      "source": [
        "#### 14. Create a random vector of size 30 and find the mean value (★☆☆) \n",
        "(**hint**: mean)"
      ]
    },
    {
      "cell_type": "code",
      "execution_count": null,
      "metadata": {
        "id": "NrCcFbYnU8z3",
        "colab": {
          "base_uri": "https://localhost:8080/"
        },
        "outputId": "8342d7b3-6ae8-4d36-b0c2-4fbb4c81af13"
      },
      "outputs": [
        {
          "output_type": "stream",
          "name": "stdout",
          "text": [
            "[0.01633511 0.09954376 0.97390726 0.54580755 0.85156094 0.43286104\n",
            " 0.68430297 0.92698707 0.3265292  0.90386756 0.0191066  0.95898719\n",
            " 0.12583032 0.63801709 0.81817692 0.63305402 0.63878874 0.73721746\n",
            " 0.95167477 0.30724994 0.57530157 0.96504216 0.73380088 0.78388952\n",
            " 0.0513913  0.89432369 0.45284412 0.08078461 0.49432835 0.05314532]\n",
            "mean: 0.5558219010112246\n"
          ]
        }
      ],
      "source": [
        "c = np.random.random(30)\n",
        "print(c)\n",
        "c = np.mean(c)\n",
        "print(\"mean:\",c)"
      ]
    },
    {
      "cell_type": "markdown",
      "metadata": {
        "id": "RB12C4lEU8z4"
      },
      "source": [
        "#### 15. Create a 2d array with 1 on the border and 0 inside (★☆☆) \n",
        "(**hint**: array\\[1:-1, 1:-1\\])"
      ]
    },
    {
      "cell_type": "code",
      "execution_count": null,
      "metadata": {
        "id": "IIJGSBBdU8z4",
        "colab": {
          "base_uri": "https://localhost:8080/"
        },
        "outputId": "6bd4c63c-5fbf-405c-9102-4f57a2cf3eb1"
      },
      "outputs": [
        {
          "output_type": "stream",
          "name": "stdout",
          "text": [
            "[[1. 1. 1. 1. 1.]\n",
            " [1. 0. 0. 0. 1.]\n",
            " [1. 0. 0. 0. 1.]\n",
            " [1. 0. 0. 0. 1.]\n",
            " [1. 1. 1. 1. 1.]]\n"
          ]
        }
      ],
      "source": [
        "d_array = np.ones((5,5))\n",
        "d_array[1:-1,1:-1] = 0\n",
        "print(d_array)\n",
        "     "
      ]
    },
    {
      "cell_type": "markdown",
      "metadata": {
        "id": "0IhyD-7CU8z5"
      },
      "source": [
        "#### 16. How to add a border (filled with 0's) around an existing array? (★☆☆) \n",
        "(**hint**: np.pad)"
      ]
    },
    {
      "cell_type": "code",
      "execution_count": null,
      "metadata": {
        "id": "VkQDFyvaU8z5",
        "colab": {
          "base_uri": "https://localhost:8080/"
        },
        "outputId": "01d4a5b5-a104-4057-c2ff-e473e192ed14"
      },
      "outputs": [
        {
          "output_type": "stream",
          "name": "stdout",
          "text": [
            "[[0. 0. 0. 0. 0. 0. 0.]\n",
            " [0. 1. 1. 1. 1. 1. 0.]\n",
            " [0. 1. 1. 1. 1. 1. 0.]\n",
            " [0. 1. 1. 1. 1. 1. 0.]\n",
            " [0. 1. 1. 1. 1. 1. 0.]\n",
            " [0. 1. 1. 1. 1. 1. 0.]\n",
            " [0. 0. 0. 0. 0. 0. 0.]]\n"
          ]
        }
      ],
      "source": [
        "e=np.ones((5,5))\n",
        "\n",
        "e=np.pad(e, pad_width= 1, mode='constant', constant_values=0)\n",
        "print(e)"
      ]
    },
    {
      "cell_type": "markdown",
      "metadata": {
        "id": "jtK8dXI8U8z6"
      },
      "source": [
        "#### 17. What is the result of the following expression? (★☆☆) \n",
        "(**hint**: NaN = not a number, inf = infinity)"
      ]
    },
    {
      "cell_type": "markdown",
      "metadata": {
        "id": "MAhgBys0U8z8"
      },
      "source": [
        "```python\n",
        "0 * np.nan\n",
        "np.nan == np.nan\n",
        "np.inf > np.nan\n",
        "np.nan - np.nan\n",
        "0.3 == 3 * 0.1\n",
        "```"
      ]
    },
    {
      "cell_type": "code",
      "execution_count": null,
      "metadata": {
        "id": "BqBk1vQQU8z9",
        "colab": {
          "base_uri": "https://localhost:8080/"
        },
        "outputId": "91ac5dde-3897-4aa6-e402-8cdbb943ca5b"
      },
      "outputs": [
        {
          "output_type": "stream",
          "name": "stdout",
          "text": [
            "nan\n",
            "False\n",
            "False\n",
            "nan\n",
            "False\n"
          ]
        }
      ],
      "source": [
        "print(0 * np.nan)\n",
        "print(np.nan == np.nan)\n",
        "print(np.inf > np.nan)\n",
        "print(np.nan - np.nan)\n",
        "print(0.3 == 3 * 0.1)"
      ]
    },
    {
      "cell_type": "markdown",
      "metadata": {
        "id": "f624Gmx7U8z-"
      },
      "source": [
        "#### 18. Create a 5x5 matrix with values 1,2,3,4 just below the diagonal (★☆☆) \n",
        "(**hint**: np.diag)"
      ]
    },
    {
      "cell_type": "code",
      "execution_count": null,
      "metadata": {
        "id": "oZT6wHk1U80A",
        "colab": {
          "base_uri": "https://localhost:8080/"
        },
        "outputId": "1e8b9935-73a4-4f55-ad7f-c9d3c575378b"
      },
      "outputs": [
        {
          "output_type": "stream",
          "name": "stdout",
          "text": [
            "[[0 0 0 0 0]\n",
            " [1 0 0 0 0]\n",
            " [0 2 0 0 0]\n",
            " [0 0 3 0 0]\n",
            " [0 0 0 4 0]]\n"
          ]
        }
      ],
      "source": [
        "Z=np.diag(1+np.arange(4),k=-1)\n",
        "print(Z)"
      ]
    },
    {
      "cell_type": "markdown",
      "metadata": {
        "id": "44HJ5CtqU80A"
      },
      "source": [
        "#### 19. Create a 8x8 matrix and fill it with a checkerboard pattern (★☆☆) \n",
        "(**hint**: array\\[::2\\])"
      ]
    },
    {
      "cell_type": "code",
      "execution_count": null,
      "metadata": {
        "id": "vzV1-hh9U80B",
        "colab": {
          "base_uri": "https://localhost:8080/"
        },
        "outputId": "3ad4f1f0-7b08-459b-f5a9-21cb7cc132f9"
      },
      "outputs": [
        {
          "output_type": "stream",
          "name": "stdout",
          "text": [
            "[[0 1 0 1 0 1 0 1]\n",
            " [1 0 1 0 1 0 1 0]\n",
            " [0 1 0 1 0 1 0 1]\n",
            " [1 0 1 0 1 0 1 0]\n",
            " [0 1 0 1 0 1 0 1]\n",
            " [1 0 1 0 1 0 1 0]\n",
            " [0 1 0 1 0 1 0 1]\n",
            " [1 0 1 0 1 0 1 0]]\n"
          ]
        }
      ],
      "source": [
        "mat = np.ones((3,3))\n",
        "mat = np.zeros((8,8),dtype =int)\n",
        "mat[1::2,::2] = 1\n",
        "mat[::2,1::2] = 1\n",
        "print(mat)"
      ]
    },
    {
      "cell_type": "markdown",
      "metadata": {
        "id": "pgnntG_4U80C"
      },
      "source": [
        "#### 20. Consider a (6,7,8) shape array, what is the index (x,y,z) of the 100th element? \n",
        "(**hint**: np.unravel_index)"
      ]
    },
    {
      "cell_type": "code",
      "execution_count": null,
      "metadata": {
        "id": "TevCDaMJU80K",
        "colab": {
          "base_uri": "https://localhost:8080/"
        },
        "outputId": "35663f6f-8b0d-429b-bdee-798301b085cf"
      },
      "outputs": [
        {
          "output_type": "stream",
          "name": "stdout",
          "text": [
            "(1, 5, 3)\n"
          ]
        }
      ],
      "source": [
        "print(np.unravel_index(99,(6,7,8)))"
      ]
    },
    {
      "cell_type": "markdown",
      "metadata": {
        "id": "_zGS--BKU80L"
      },
      "source": [
        "#### 21. Create a checkerboard 8x8 matrix using the tile function (★☆☆) \n",
        "(**hint**: np.tile)"
      ]
    },
    {
      "cell_type": "code",
      "execution_count": null,
      "metadata": {
        "id": "DY8PBSilU80M",
        "colab": {
          "base_uri": "https://localhost:8080/"
        },
        "outputId": "efdd5491-c25d-4136-f981-a9f2d354bb9b"
      },
      "outputs": [
        {
          "output_type": "stream",
          "name": "stdout",
          "text": [
            "[[0 1 0 1 0 1 0 1]\n",
            " [1 0 1 0 1 0 1 0]\n",
            " [0 1 0 1 0 1 0 1]\n",
            " [1 0 1 0 1 0 1 0]\n",
            " [0 1 0 1 0 1 0 1]\n",
            " [1 0 1 0 1 0 1 0]\n",
            " [0 1 0 1 0 1 0 1]\n",
            " [1 0 1 0 1 0 1 0]]\n"
          ]
        }
      ],
      "source": [
        "chk_board_mat = np.tile(np.array([[0,1],[1,0]]), (4,4))\n",
        "print(chk_board_mat)\n",
        "     "
      ]
    },
    {
      "cell_type": "markdown",
      "metadata": {
        "id": "bLoAZWzNU80N"
      },
      "source": [
        "#### 22. Normalize a 5x5 random matrix (★☆☆) \n",
        "(**hint**: (x - min) / (max - min))"
      ]
    },
    {
      "cell_type": "code",
      "execution_count": null,
      "metadata": {
        "id": "rb-xw3xVU80O",
        "colab": {
          "base_uri": "https://localhost:8080/"
        },
        "outputId": "94ea771b-44af-4898-87f3-692429dfae98"
      },
      "outputs": [
        {
          "output_type": "stream",
          "name": "stdout",
          "text": [
            "[[-0.86481231 -1.00804378 -0.74654775  0.91695315  0.61607128]\n",
            " [-1.42588642 -0.95727801  0.47808372 -0.12906619  0.0190589 ]\n",
            " [ 0.88605741 -0.57874563  1.27216827  1.32998341  0.99152979]\n",
            " [ 1.06420425 -1.67335642  1.13659701 -1.40518618  1.26889896]\n",
            " [-0.91330832  0.95812949  0.13316654  0.10845663 -1.47712779]]\n"
          ]
        }
      ],
      "source": [
        "rdm_mat = np.random.random((5,5))\n",
        "rdm_mat = (rdm_mat - np.mean(rdm_mat))/(np.std(rdm_mat))\n",
        "print(rdm_mat)"
      ]
    },
    {
      "cell_type": "markdown",
      "metadata": {
        "id": "RBqidlXJU80O"
      },
      "source": [
        "#### 23. Create a custom dtype that describes a color as four unsigned bytes (RGBA) (★☆☆) \n",
        "(**hint**: np.dtype)"
      ]
    },
    {
      "cell_type": "code",
      "execution_count": null,
      "metadata": {
        "collapsed": true,
        "id": "LsOr7NtHU80P",
        "colab": {
          "base_uri": "https://localhost:8080/"
        },
        "outputId": "2fc11346-eeca-4581-b651-6653614e34aa"
      },
      "outputs": [
        {
          "output_type": "stream",
          "name": "stdout",
          "text": [
            "[('r', 'u1'), ('g', 'u1'), ('b', 'u1'), ('a', 'u1')]\n"
          ]
        }
      ],
      "source": [
        "color = np.dtype([(\"r\", np.ubyte),(\"g\", np.ubyte),(\"b\", np.ubyte),(\"a\", np.ubyte)])\n",
        "print(color)"
      ]
    },
    {
      "cell_type": "markdown",
      "metadata": {
        "id": "fmmrfiXjU80Q"
      },
      "source": [
        "#### 24. Multiply a 5x3 matrix by a 3x2 matrix (real matrix product) (★☆☆) \n",
        "(**hint**: np.dot | @)"
      ]
    },
    {
      "cell_type": "code",
      "execution_count": null,
      "metadata": {
        "id": "HFhGznfOU80Q",
        "colab": {
          "base_uri": "https://localhost:8080/"
        },
        "outputId": "555b7bf4-35e8-4b56-c7c7-7fc4f8863728"
      },
      "outputs": [
        {
          "output_type": "stream",
          "name": "stdout",
          "text": [
            "[[3. 3.]\n",
            " [3. 3.]\n",
            " [3. 3.]\n",
            " [3. 3.]\n",
            " [3. 3.]]\n"
          ]
        }
      ],
      "source": [
        "a = np.ones((5,3))\n",
        "b = np.ones((3,2))\n",
        "c = np.dot(a,b)\n",
        "print(c)\n",
        "     "
      ]
    },
    {
      "cell_type": "markdown",
      "metadata": {
        "id": "7MRQDAXAU80R"
      },
      "source": [
        "#### 25. Given a 1D array, negate all elements which are between 3 and 8, in place. (★☆☆) \n",
        "(**hint**: >, <=)"
      ]
    },
    {
      "cell_type": "code",
      "execution_count": null,
      "metadata": {
        "id": "-o4U8K1dU80R",
        "colab": {
          "base_uri": "https://localhost:8080/"
        },
        "outputId": "8c3678c7-0058-4606-da89-6a9b36b9d3d0"
      },
      "outputs": [
        {
          "output_type": "stream",
          "name": "stdout",
          "text": [
            "[ 0  1  2  3 -4 -5 -6 -7  8  9 10]\n"
          ]
        }
      ],
      "source": [
        "Z=np.arange(11)\n",
        "\n",
        "Z[(3 < Z) & (Z < 8)] *= -1\n",
        "print(Z)\n",
        "     "
      ]
    },
    {
      "cell_type": "markdown",
      "metadata": {
        "id": "8zrdMiz6U80S"
      },
      "source": [
        "#### 26. What is the output of the following script? (★☆☆) \n",
        "(**hint**: np.sum)"
      ]
    },
    {
      "cell_type": "markdown",
      "metadata": {
        "id": "J_S1CkhbU80T"
      },
      "source": [
        "```python\n",
        "# Author: Jake VanderPlas\n",
        "\n",
        "print(sum(range(5),-1))\n",
        "from numpy import *\n",
        "print(sum(range(5),-1))\n",
        "```"
      ]
    },
    {
      "cell_type": "code",
      "execution_count": null,
      "metadata": {
        "id": "TUDOvXpyU80T",
        "colab": {
          "base_uri": "https://localhost:8080/"
        },
        "outputId": "3150afa0-907a-43e9-ddec-bc1de3c23adc"
      },
      "outputs": [
        {
          "output_type": "stream",
          "name": "stdout",
          "text": [
            "9\n",
            "10\n"
          ]
        }
      ],
      "source": [
        "print(sum(range(5),-1))\n",
        "from numpy import *\n",
        "print(sum(range(5),-1))"
      ]
    },
    {
      "cell_type": "markdown",
      "metadata": {
        "id": "pjVm_RI0U80W"
      },
      "source": [
        "#### 28. What are the result of the following expressions?"
      ]
    },
    {
      "cell_type": "markdown",
      "metadata": {
        "id": "M9DLcCl9U80W"
      },
      "source": [
        "```python\n",
        "np.array(0) / np.array(0)\n",
        "np.array(0) // np.array(0)\n",
        "np.array([np.nan]).astype(int).astype(float)\n",
        "```"
      ]
    },
    {
      "cell_type": "code",
      "execution_count": null,
      "metadata": {
        "id": "IygiKhD9U80X",
        "colab": {
          "base_uri": "https://localhost:8080/"
        },
        "outputId": "2172adbb-f05e-48e9-ad63-d3ac593a3049"
      },
      "outputs": [
        {
          "output_type": "stream",
          "name": "stderr",
          "text": [
            "<ipython-input-31-cd809174da5d>:1: RuntimeWarning: invalid value encountered in true_divide\n",
            "  np.array(0) / np.array(0)\n",
            "<ipython-input-31-cd809174da5d>:2: RuntimeWarning: divide by zero encountered in floor_divide\n",
            "  np.array(0) // np.array(0)\n"
          ]
        },
        {
          "output_type": "execute_result",
          "data": {
            "text/plain": [
              "array([-9.22337204e+18])"
            ]
          },
          "metadata": {},
          "execution_count": 31
        }
      ],
      "source": [
        "np.array(0) / np.array(0)\n",
        "np.array(0) // np.array(0)\n",
        "np.array([np.nan]).astype(int).astype(float)"
      ]
    },
    {
      "cell_type": "markdown",
      "metadata": {
        "id": "_AwgciwoU80Y"
      },
      "source": [
        "#### 29. How to round away from zero a float array ? (★☆☆) \n",
        "(**hint**: np.uniform, np.copysign, np.ceil, np.abs)"
      ]
    },
    {
      "cell_type": "code",
      "execution_count": null,
      "metadata": {
        "id": "vMYw5Nu4U80Y",
        "colab": {
          "base_uri": "https://localhost:8080/"
        },
        "outputId": "be5176b2-94cf-4163-ff89-897bfc29bb05"
      },
      "outputs": [
        {
          "output_type": "stream",
          "name": "stdout",
          "text": [
            "[ -1.   2. -10.   7.   3.  -8.  10.   2.   1.  -9.]\n",
            "[ -1.   2. -10.   7.   3.  -8.  10.   2.   1.  -9.]\n"
          ]
        }
      ],
      "source": [
        "Z = np.random.uniform(-10,+10,10)\n",
        "print(np.copysign(np.ceil(np.abs(Z)), Z))\n",
        "\n",
        "print(np.where(Z>0, np.ceil(Z), np.floor(Z)))\n",
        "     "
      ]
    },
    {
      "cell_type": "markdown",
      "metadata": {
        "id": "Jz5Ccnr8U80Z"
      },
      "source": [
        "#### 30. How to find common values between two arrays? (★☆☆) \n",
        "(**hint**: np.intersect1d)"
      ]
    },
    {
      "cell_type": "code",
      "execution_count": null,
      "metadata": {
        "id": "d3oRn6NdU80Z",
        "colab": {
          "base_uri": "https://localhost:8080/"
        },
        "outputId": "67ef0569-7438-4a18-bba9-7a88bd149878"
      },
      "outputs": [
        {
          "output_type": "stream",
          "name": "stdout",
          "text": [
            "[3 4 6 8 9]\n"
          ]
        }
      ],
      "source": [
        "a1=np.random.randint(0,10,10)\n",
        "a2=np.random.randint(0,10,10)\n",
        "print(np.intersect1d(a1,a2))"
      ]
    },
    {
      "cell_type": "markdown",
      "metadata": {
        "id": "jZiSaNeDU80b"
      },
      "source": [
        "#### 32. Is the following expressions true? (★☆☆) \n",
        "(**hint**: imaginary number)"
      ]
    },
    {
      "cell_type": "markdown",
      "metadata": {
        "id": "VQV3gy7oU80b"
      },
      "source": [
        "```python\n",
        "np.sqrt(-1) == np.emath.sqrt(-1)\n",
        "```"
      ]
    },
    {
      "cell_type": "code",
      "execution_count": null,
      "metadata": {
        "id": "yY-MB5gBU80c",
        "colab": {
          "base_uri": "https://localhost:8080/"
        },
        "outputId": "6d5ad824-610b-4445-9bd7-09eeb50578fd"
      },
      "outputs": [
        {
          "output_type": "stream",
          "name": "stderr",
          "text": [
            "<ipython-input-35-16339fbc685e>:1: RuntimeWarning: invalid value encountered in sqrt\n",
            "  np.sqrt(-1) == np.emath.sqrt(-1)\n"
          ]
        },
        {
          "output_type": "execute_result",
          "data": {
            "text/plain": [
              "False"
            ]
          },
          "metadata": {},
          "execution_count": 35
        }
      ],
      "source": [
        "np.sqrt(-1) == np.emath.sqrt(-1)"
      ]
    },
    {
      "cell_type": "markdown",
      "metadata": {
        "id": "qfSjvNn1U80d"
      },
      "source": [
        "#### 33. How to get the dates of yesterday, today and tomorrow? (★☆☆) \n",
        "(**hint**: np.datetime64, np.timedelta64)"
      ]
    },
    {
      "cell_type": "code",
      "execution_count": 2,
      "metadata": {
        "collapsed": true,
        "id": "KGjok-m2U80e",
        "colab": {
          "base_uri": "https://localhost:8080/"
        },
        "outputId": "3de92c1f-501a-4360-8228-62ecdc3e43b8"
      },
      "outputs": [
        {
          "output_type": "stream",
          "name": "stdout",
          "text": [
            "2023-01-09 2023-01-10 2023-01-11\n"
          ]
        }
      ],
      "source": [
        "yesterday=np.datetime64('today')-np.timedelta64(1)\n",
        "Today=np.datetime64('today')\n",
        "Tomorrow=np.datetime64('today')+np.timedelta64(1)\n",
        "print(yesterday,Today,Tomorrow)\n",
        "     "
      ]
    },
    {
      "cell_type": "markdown",
      "metadata": {
        "id": "1J3Z5eq-U80g"
      },
      "source": [
        "#### 34. How to get all the dates corresponding to the month of July 2016? (★★☆) \n",
        "(**hint**: np.arange(dtype=datetime64\\['D'\\]))"
      ]
    },
    {
      "cell_type": "code",
      "execution_count": null,
      "metadata": {
        "id": "Rz-JlgcfU80i",
        "colab": {
          "base_uri": "https://localhost:8080/"
        },
        "outputId": "e8511ee7-e37e-4363-8829-9d06c35e94d1"
      },
      "outputs": [
        {
          "output_type": "stream",
          "name": "stdout",
          "text": [
            "['2016-07-01' '2016-07-02' '2016-07-03' '2016-07-04' '2016-07-05'\n",
            " '2016-07-06' '2016-07-07' '2016-07-08' '2016-07-09' '2016-07-10'\n",
            " '2016-07-11' '2016-07-12' '2016-07-13' '2016-07-14' '2016-07-15'\n",
            " '2016-07-16' '2016-07-17' '2016-07-18' '2016-07-19' '2016-07-20'\n",
            " '2016-07-21' '2016-07-22' '2016-07-23' '2016-07-24' '2016-07-25'\n",
            " '2016-07-26' '2016-07-27' '2016-07-28' '2016-07-29' '2016-07-30'\n",
            " '2016-07-31']\n"
          ]
        }
      ],
      "source": [
        "c = np.arange('2016-07', '2016-08', dtype='datetime64[D]')\n",
        "print(c)\n",
        "     "
      ]
    },
    {
      "cell_type": "markdown",
      "metadata": {
        "id": "pZSu_WT-U80i"
      },
      "source": [
        "#### 35. How to compute ((A+B)\\*(-A/2)) in place (without copy)? (★★☆) \n",
        "(**hint**: np.add(out=), np.negative(out=), np.multiply(out=), np.divide(out=))"
      ]
    },
    {
      "cell_type": "code",
      "execution_count": null,
      "metadata": {
        "id": "xyJ_wsVdU80k",
        "colab": {
          "base_uri": "https://localhost:8080/"
        },
        "outputId": "f3d38043-86a9-4665-cf48-a2c26c2c3ec5"
      },
      "outputs": [
        {
          "output_type": "execute_result",
          "data": {
            "text/plain": [
              "array([-1.5, -1.5, -1.5])"
            ]
          },
          "metadata": {},
          "execution_count": 38
        }
      ],
      "source": [
        "A = np.ones(3)*1\n",
        "B = np.ones(3)*2\n",
        "np.add(A,B,out=B)\n",
        "np.divide(A,2,out=A)\n",
        "np.negative(A,out=A)\n",
        "np.multiply(A,B,out=A)"
      ]
    },
    {
      "cell_type": "markdown",
      "metadata": {
        "id": "YktEac9EU80k"
      },
      "source": [
        "#### 36. Extract the integer part of a random array using 5 different methods (★★☆) \n",
        "(**hint**: %, np.floor, np.ceil, astype, np.trunc)"
      ]
    },
    {
      "cell_type": "code",
      "execution_count": null,
      "metadata": {
        "id": "A1_Mu17jU80l",
        "colab": {
          "base_uri": "https://localhost:8080/"
        },
        "outputId": "1a3de6b7-a22c-4bc1-d6a5-e1c52c5c3872"
      },
      "outputs": [
        {
          "output_type": "stream",
          "name": "stdout",
          "text": [
            "[6. 7. 9. 1. 0.]\n",
            "[6. 7. 9. 1. 0.]\n",
            "[6. 7. 9. 1. 0.]\n",
            "[6 7 9 1 0]\n",
            "[6. 7. 9. 1. 0.]\n"
          ]
        }
      ],
      "source": [
        "a=np.random.uniform(0,10,5)\n",
        "print(a-a%1)\n",
        "print(a//1)\n",
        "print(np.floor(a))\n",
        "print(a.astype(int))\n",
        "print(np.trunc(a))\n"
      ]
    },
    {
      "cell_type": "markdown",
      "metadata": {
        "id": "BlHnF0s8U80m"
      },
      "source": [
        "#### 37. Create a 5x5 matrix with row values ranging from 0 to 4 (★★☆) \n",
        "(**hint**: np.arange)"
      ]
    },
    {
      "cell_type": "code",
      "execution_count": null,
      "metadata": {
        "id": "QCE51uguU80n",
        "colab": {
          "base_uri": "https://localhost:8080/"
        },
        "outputId": "52c82805-da34-4c4f-a42d-c0f7fdc3129a"
      },
      "outputs": [
        {
          "output_type": "stream",
          "name": "stdout",
          "text": [
            "[[0. 1. 2. 3. 4.]\n",
            " [0. 1. 2. 3. 4.]\n",
            " [0. 1. 2. 3. 4.]\n",
            " [0. 1. 2. 3. 4.]\n",
            " [0. 1. 2. 3. 4.]]\n"
          ]
        }
      ],
      "source": [
        "a=np.zeros((5,5))\n",
        "a +=np.arange(5)\n",
        "print(a)"
      ]
    },
    {
      "cell_type": "markdown",
      "metadata": {
        "id": "6ieD46IIU80o"
      },
      "source": [
        "#### 38. Consider a generator function that generates 10 integers and use it to build an array (★☆☆) \n",
        "(**hint**: np.fromiter)"
      ]
    },
    {
      "cell_type": "code",
      "execution_count": null,
      "metadata": {
        "id": "2su7gPIhU80p",
        "colab": {
          "base_uri": "https://localhost:8080/"
        },
        "outputId": "a559cf63-8166-4eb2-9b98-09b7ffc78152"
      },
      "outputs": [
        {
          "output_type": "stream",
          "name": "stdout",
          "text": [
            "[0. 1. 2. 3. 4. 5. 6. 7. 8. 9.]\n"
          ]
        }
      ],
      "source": [
        "def generate():\n",
        "  for x in range(10):\n",
        "    yield x\n",
        "a = np.fromiter(generate(),dtype=float,count=-1)\n",
        "print(a)"
      ]
    },
    {
      "cell_type": "markdown",
      "metadata": {
        "id": "1rxypsfgU80q"
      },
      "source": [
        "#### 39. Create a vector of size 10 with values ranging from 0 to 1, both excluded (★★☆) \n",
        "(**hint**: np.linspace)"
      ]
    },
    {
      "cell_type": "code",
      "execution_count": null,
      "metadata": {
        "id": "OTwTdVFgU80r",
        "colab": {
          "base_uri": "https://localhost:8080/"
        },
        "outputId": "18420f7f-5c45-4cfc-9291-af51990bad7f"
      },
      "outputs": [
        {
          "output_type": "execute_result",
          "data": {
            "text/plain": [
              "array([0.09090909, 0.18181818, 0.27272727, 0.36363636, 0.45454545,\n",
              "       0.54545455, 0.63636364, 0.72727273, 0.81818182, 0.90909091])"
            ]
          },
          "metadata": {},
          "execution_count": 42
        }
      ],
      "source": [
        "np.linspace(0,1,11,endpoint=False)[1:]"
      ]
    },
    {
      "cell_type": "markdown",
      "metadata": {
        "id": "LGOUxDNeU80r"
      },
      "source": [
        "#### 40. Create a random vector of size 10 and sort it (★★☆) \n",
        "(**hint**: sort)"
      ]
    },
    {
      "cell_type": "code",
      "execution_count": null,
      "metadata": {
        "id": "KSi3pxJ1U80s",
        "colab": {
          "base_uri": "https://localhost:8080/"
        },
        "outputId": "aba7e8ed-2b5d-4087-a3e3-eace6dd08a8c"
      },
      "outputs": [
        {
          "output_type": "execute_result",
          "data": {
            "text/plain": [
              "array([0.23216047, 0.25081736, 0.29573411, 0.33734066, 0.45263702,\n",
              "       0.53677477, 0.54206932, 0.78048133, 0.87288612, 0.96443398])"
            ]
          },
          "metadata": {},
          "execution_count": 43
        }
      ],
      "source": [
        "c=np.random.random(10)\n",
        "c.sort()\n",
        "c\n",
        "    "
      ]
    },
    {
      "cell_type": "markdown",
      "metadata": {
        "id": "IEgPJ-4EU80t"
      },
      "source": [
        "#### 41. How to sum a small array faster than np.sum? (★★☆) \n",
        "(**hint**: np.add.reduce)"
      ]
    },
    {
      "cell_type": "code",
      "execution_count": null,
      "metadata": {
        "id": "LOdWce4IU80u",
        "colab": {
          "base_uri": "https://localhost:8080/"
        },
        "outputId": "16baf415-cc1d-4367-f372-cb2b12997c0b"
      },
      "outputs": [
        {
          "output_type": "execute_result",
          "data": {
            "text/plain": [
              "45"
            ]
          },
          "metadata": {},
          "execution_count": 45
        }
      ],
      "source": [
        "a=np.arange(10)\n",
        "np.add.reduce(a)"
      ]
    },
    {
      "cell_type": "markdown",
      "metadata": {
        "id": "4Nczu8vAU80v"
      },
      "source": [
        "#### 42. Consider two random array A and B, check if they are equal (★★☆) \n",
        "(**hint**: np.allclose, np.array\\_equal)"
      ]
    },
    {
      "cell_type": "code",
      "execution_count": null,
      "metadata": {
        "id": "eMVv0yMDU80w",
        "colab": {
          "base_uri": "https://localhost:8080/"
        },
        "outputId": "608325f2-a03e-4290-a392-d49ccdd7bec9"
      },
      "outputs": [
        {
          "output_type": "stream",
          "name": "stdout",
          "text": [
            "False\n"
          ]
        }
      ],
      "source": [
        "A=np.random.randint(0,2,5)\n",
        "B=np.random.randint(0,2,5)\n",
        "equal = np.allclose(A,B)\n",
        "print(equal)"
      ]
    },
    {
      "cell_type": "markdown",
      "metadata": {
        "id": "G2xEuPpZU80x"
      },
      "source": [
        "#### 43. Make an array immutable (read-only) (★★☆) \n",
        "(**hint**: flags.writeable)"
      ]
    },
    {
      "cell_type": "code",
      "execution_count": 7,
      "metadata": {
        "id": "DhHEDMqVU80y"
      },
      "outputs": [],
      "source": [
        "a=np.zeros(10)\n",
        "a.flags.writeable=False"
      ]
    },
    {
      "cell_type": "markdown",
      "metadata": {
        "id": "l0dLVo7PU80z"
      },
      "source": [
        "#### 44. Consider a random 10x2 matrix representing cartesian coordinates, convert them to polar coordinates (★★☆) \n",
        "(**hint**: np.sqrt, np.arctan2)"
      ]
    },
    {
      "cell_type": "code",
      "execution_count": null,
      "metadata": {
        "id": "175y7A0nU80z",
        "colab": {
          "base_uri": "https://localhost:8080/"
        },
        "outputId": "fd1d857a-bca4-4a79-e4e0-a8e5bc53624a"
      },
      "outputs": [
        {
          "output_type": "stream",
          "name": "stdout",
          "text": [
            "[0.21004268 0.52155992 0.81908375 0.70302233 0.95895633 0.74410437\n",
            " 1.01419136 0.49457912 0.87221073 0.70232281]\n",
            "[0.2849686  0.02154479 0.55726806 1.06888412 0.14497852 1.54301804\n",
            " 0.63559569 0.88562064 1.36198028 0.97387525]\n"
          ]
        }
      ],
      "source": [
        "Z = np.random.random((10,2))\n",
        "X,Y = Z[:,0], Z[:,1]\n",
        "R = np.sqrt(X**2+Y**2)\n",
        "T = np.arctan2(Y,X)\n",
        "print(R)\n",
        "print(T)"
      ]
    },
    {
      "cell_type": "markdown",
      "metadata": {
        "id": "5ILvrjLxU800"
      },
      "source": [
        "#### 45. Create random vector of size 10 and replace the maximum value by 0 (★★☆) \n",
        "(**hint**: argmax)"
      ]
    },
    {
      "cell_type": "code",
      "execution_count": null,
      "metadata": {
        "id": "kG8ejsE7U800",
        "colab": {
          "base_uri": "https://localhost:8080/"
        },
        "outputId": "b2a758c6-d8c5-4b15-df1f-95d9c5553d72"
      },
      "outputs": [
        {
          "output_type": "stream",
          "name": "stdout",
          "text": [
            "[0.48722807 0.44231908 0.         0.55134266 0.85525258 0.8622232\n",
            " 0.29776096 0.87402762 0.39773167 0.65723176]\n"
          ]
        }
      ],
      "source": [
        "a = np.random.random(10)\n",
        "a[a.argmax()] = 0\n",
        "print(a)"
      ]
    },
    {
      "cell_type": "markdown",
      "metadata": {
        "id": "6kqaNH-XU801"
      },
      "source": [
        "#### 46. Create a structured array with `x` and `y` coordinates covering the \\[0,1\\]x\\[0,1\\] area (★★☆) \n",
        "(**hint**: np.meshgrid)"
      ]
    },
    {
      "cell_type": "code",
      "execution_count": null,
      "metadata": {
        "id": "UpBfPw3pU801",
        "colab": {
          "base_uri": "https://localhost:8080/"
        },
        "outputId": "98b11582-159c-401a-9df5-036a3e8b1757"
      },
      "outputs": [
        {
          "output_type": "stream",
          "name": "stdout",
          "text": [
            "[[(0.  , 0.  ) (0.25, 0.  ) (0.5 , 0.  ) (0.75, 0.  ) (1.  , 0.  )]\n",
            " [(0.  , 0.25) (0.25, 0.25) (0.5 , 0.25) (0.75, 0.25) (1.  , 0.25)]\n",
            " [(0.  , 0.5 ) (0.25, 0.5 ) (0.5 , 0.5 ) (0.75, 0.5 ) (1.  , 0.5 )]\n",
            " [(0.  , 0.75) (0.25, 0.75) (0.5 , 0.75) (0.75, 0.75) (1.  , 0.75)]\n",
            " [(0.  , 1.  ) (0.25, 1.  ) (0.5 , 1.  ) (0.75, 1.  ) (1.  , 1.  )]]\n"
          ]
        }
      ],
      "source": [
        "a = np.zeros((5,5), [('b',float),('c',float)])\n",
        "a['b'], a['c'] = np.meshgrid(np.linspace(0,1,5),np.linspace(0,1,5))\n",
        "print(a)"
      ]
    },
    {
      "cell_type": "markdown",
      "metadata": {
        "id": "8B5JiOwzU802"
      },
      "source": [
        "####  47. Given two arrays, X and Y, construct the Cauchy matrix C (Cij =1/(xi - yj)) \n",
        "(**hint**: np.subtract.outer)"
      ]
    },
    {
      "cell_type": "code",
      "execution_count": null,
      "metadata": {
        "id": "85Hb680nU802",
        "colab": {
          "base_uri": "https://localhost:8080/"
        },
        "outputId": "40a6fae1-c9b3-47fe-d523-7fc49375c6b9"
      },
      "outputs": [
        {
          "output_type": "stream",
          "name": "stdout",
          "text": [
            "3638.163637117973\n"
          ]
        }
      ],
      "source": [
        "a = np.arange(8)\n",
        "b = a + 0.5\n",
        "C = 1.0 / np.subtract.outer(a, b)\n",
        "print(np.linalg.det(C))\n",
        "     "
      ]
    },
    {
      "cell_type": "markdown",
      "metadata": {
        "id": "Es7QlxOfU803"
      },
      "source": [
        "#### 48. Print the minimum and maximum representable value for each numpy scalar type (★★☆) \n",
        "(**hint**: np.iinfo, np.finfo, eps)"
      ]
    },
    {
      "cell_type": "code",
      "execution_count": null,
      "metadata": {
        "id": "xNY2aD-XU803",
        "colab": {
          "base_uri": "https://localhost:8080/"
        },
        "outputId": "c7efff88-09b3-4feb-ddfb-5834ecb1453d"
      },
      "outputs": [
        {
          "output_type": "stream",
          "name": "stdout",
          "text": [
            "-128\n",
            "127\n",
            "-2147483648\n",
            "2147483647\n",
            "-9223372036854775808\n",
            "9223372036854775807\n",
            "-3.4028235e+38\n",
            "3.4028235e+38\n",
            "1.1920929e-07\n",
            "-1.7976931348623157e+308\n",
            "1.7976931348623157e+308\n",
            "2.220446049250313e-16\n"
          ]
        }
      ],
      "source": [
        "for dtype in [np.int8, np.int32, np.int64]:\n",
        "   print(np.iinfo(dtype).min)\n",
        "   print(np.iinfo(dtype).max)\n",
        "for dtype in [np.float32, np.float64]:\n",
        "   print(np.finfo(dtype).min)\n",
        "   print(np.finfo(dtype).max)\n",
        "   print(np.finfo(dtype).eps)"
      ]
    },
    {
      "cell_type": "markdown",
      "metadata": {
        "id": "jPGr_yzoU804"
      },
      "source": [
        "#### 49. How to print all the values of an array? (★★☆) \n",
        "(**hint**: np.set\\_printoptions)"
      ]
    },
    {
      "cell_type": "code",
      "execution_count": null,
      "metadata": {
        "id": "1dC4wxw3U804",
        "colab": {
          "base_uri": "https://localhost:8080/"
        },
        "outputId": "20d1dac4-ccdc-4b43-ed69-3958eca76176"
      },
      "outputs": [
        {
          "output_type": "stream",
          "name": "stdout",
          "text": [
            "[[0. 0. 0. 0. 0. 0. 0. 0. 0. 0.]\n",
            " [0. 0. 0. 0. 0. 0. 0. 0. 0. 0.]\n",
            " [0. 0. 0. 0. 0. 0. 0. 0. 0. 0.]\n",
            " [0. 0. 0. 0. 0. 0. 0. 0. 0. 0.]\n",
            " [0. 0. 0. 0. 0. 0. 0. 0. 0. 0.]\n",
            " [0. 0. 0. 0. 0. 0. 0. 0. 0. 0.]\n",
            " [0. 0. 0. 0. 0. 0. 0. 0. 0. 0.]\n",
            " [0. 0. 0. 0. 0. 0. 0. 0. 0. 0.]\n",
            " [0. 0. 0. 0. 0. 0. 0. 0. 0. 0.]\n",
            " [0. 0. 0. 0. 0. 0. 0. 0. 0. 0.]]\n"
          ]
        }
      ],
      "source": [
        "np.set_printoptions(threshold=float(\"inf\"))\n",
        "b = np.zeros((10,10))\n",
        "print(b)\n",
        "     "
      ]
    },
    {
      "cell_type": "markdown",
      "metadata": {
        "id": "6l4aROYlU805"
      },
      "source": [
        "#### 50. How to find the closest value (to a given scalar) in a vector? (★★☆) \n",
        "(**hint**: argmin)"
      ]
    },
    {
      "cell_type": "code",
      "execution_count": null,
      "metadata": {
        "id": "q95DqX2UU805",
        "colab": {
          "base_uri": "https://localhost:8080/"
        },
        "outputId": "99fc1783-e9fd-4441-97f0-2766b6657e99"
      },
      "outputs": [
        {
          "output_type": "stream",
          "name": "stdout",
          "text": [
            "92\n"
          ]
        }
      ],
      "source": [
        "x = np.arange(100)\n",
        "\n",
        "a = np.random.uniform(0,100)\n",
        "\n",
        "index = (np.abs(x-a)).argmin()\n",
        "print(x[index])"
      ]
    },
    {
      "cell_type": "markdown",
      "metadata": {
        "id": "ew5CGtFaU806"
      },
      "source": [
        "#### 51. Create a structured array representing a position (x,y) and a color (r,g,b) (★★☆) \n",
        "(**hint**: dtype)"
      ]
    },
    {
      "cell_type": "code",
      "execution_count": null,
      "metadata": {
        "id": "1TS2sD31U806",
        "colab": {
          "base_uri": "https://localhost:8080/"
        },
        "outputId": "0a003495-c38f-4934-d557-7db0f3ce4922"
      },
      "outputs": [
        {
          "output_type": "stream",
          "name": "stdout",
          "text": [
            "[((0., [0., 0.]), (0., [0., 0.], [0., 0., 0.]))\n",
            " ((0., [0., 0.]), (0., [0., 0.], [0., 0., 0.]))\n",
            " ((0., [0., 0.]), (0., [0., 0.], [0., 0., 0.]))\n",
            " ((0., [0., 0.]), (0., [0., 0.], [0., 0., 0.]))\n",
            " ((0., [0., 0.]), (0., [0., 0.], [0., 0., 0.]))\n",
            " ((0., [0., 0.]), (0., [0., 0.], [0., 0., 0.]))\n",
            " ((0., [0., 0.]), (0., [0., 0.], [0., 0., 0.]))\n",
            " ((0., [0., 0.]), (0., [0., 0.], [0., 0., 0.]))\n",
            " ((0., [0., 0.]), (0., [0., 0.], [0., 0., 0.]))\n",
            " ((0., [0., 0.]), (0., [0., 0.], [0., 0., 0.]))]\n"
          ]
        },
        {
          "output_type": "stream",
          "name": "stderr",
          "text": [
            "<ipython-input-55-d36ac8a18f1e>:1: FutureWarning: Passing (type, 1) or '1type' as a synonym of type is deprecated; in a future version of numpy, it will be understood as (type, (1,)) / '(1,)type'.\n",
            "  a = np.zeros(10, [ ('position', [ ('x', float, 1),\n"
          ]
        }
      ],
      "source": [
        "a = np.zeros(10, [ ('position', [ ('x', float, 1),\n",
        "                                   ('y', float, 2)]),\n",
        "                    ('color',    [ ('r', float, 1),\n",
        "                                   ('g', float, 2),\n",
        "                                   ('b', float, 3)])])\n",
        "print(a)"
      ]
    },
    {
      "cell_type": "markdown",
      "metadata": {
        "id": "e-P_CNxaU807"
      },
      "source": [
        "#### 52. Consider a random vector with shape (100,2) representing coordinates, find point by point distances (★★☆) \n",
        "(**hint**: np.atleast\\_2d, T, np.sqrt)"
      ]
    },
    {
      "cell_type": "code",
      "execution_count": null,
      "metadata": {
        "id": "rdh6lbamU807",
        "colab": {
          "base_uri": "https://localhost:8080/"
        },
        "outputId": "2f233ded-56c4-47b1-af81-f098f3bac235"
      },
      "outputs": [
        {
          "output_type": "stream",
          "name": "stdout",
          "text": [
            "[[0.         0.27269747 0.61792601 0.34722542 0.48205995 0.32790539\n",
            "  0.23014702 0.3340472  0.04079466 0.29969498]\n",
            " [0.27269747 0.         0.39480662 0.09838705 0.70193474 0.18995536\n",
            "  0.47972621 0.5379355  0.25994279 0.33426113]\n",
            " [0.61792601 0.39480662 0.         0.2964886  0.89367286 0.29742288\n",
            "  0.75388884 0.74030389 0.6225564  0.72450369]\n",
            " [0.34722542 0.09838705 0.2964886  0.         0.7317474  0.13822912\n",
            "  0.53155174 0.56685672 0.3422493  0.43124591]\n",
            " [0.48205995 0.70193474 0.89367286 0.7317474  0.         0.62674273\n",
            "  0.25847787 0.165013   0.51993915 0.76238337]\n",
            " [0.32790539 0.18995536 0.29742288 0.13822912 0.62674273 0.\n",
            "  0.45948614 0.46482548 0.33944625 0.50369948]\n",
            " [0.23014702 0.47972621 0.75388884 0.53155174 0.25847787 0.45948614\n",
            "  0.         0.14296351 0.26541101 0.5039861 ]\n",
            " [0.3340472  0.5379355  0.74030389 0.56685672 0.165013   0.46482548\n",
            "  0.14296351 0.         0.37401376 0.62769123]\n",
            " [0.04079466 0.25994279 0.6225564  0.3422493  0.51993915 0.33944625\n",
            "  0.26541101 0.37401376 0.         0.25899482]\n",
            " [0.29969498 0.33426113 0.72450369 0.43124591 0.76238337 0.50369948\n",
            "  0.5039861  0.62769123 0.25899482 0.        ]]\n"
          ]
        }
      ],
      "source": [
        "Z = np.random.random((10,2))\n",
        "X,Y = np.atleast_2d(Z[:,0]), np.atleast_2d(Z[:,1])\n",
        "D = np.sqrt( (X-X.T)**2 + (Y-Y.T)**2)\n",
        "\n",
        "\n",
        "import scipy\n",
        "\n",
        "import scipy.spatial\n",
        "\n",
        "Z = np.random.random((10,2))\n",
        "D = scipy.spatial.distance.cdist(Z,Z)\n",
        "print(D)"
      ]
    },
    {
      "cell_type": "markdown",
      "metadata": {
        "id": "OdM_OOVvU808"
      },
      "source": [
        "#### 53. How to convert a float (32 bits) array into an integer (32 bits) in place? \n",
        "(**hint**: astype(copy=False))"
      ]
    },
    {
      "cell_type": "code",
      "execution_count": null,
      "metadata": {
        "id": "W2o7yLtnU80-",
        "colab": {
          "base_uri": "https://localhost:8080/"
        },
        "outputId": "be351e3e-9fde-4022-b1cd-f00a4e1e2f8b"
      },
      "outputs": [
        {
          "output_type": "execute_result",
          "data": {
            "text/plain": [
              "array([0., 1., 2., 3., 4., 5., 6., 7., 8., 9.], dtype=float32)"
            ]
          },
          "metadata": {},
          "execution_count": 57
        }
      ],
      "source": [
        "a = np.arange(10, dtype=np.int32)\n",
        "a = a.astype(np.float32, copy=False)\n",
        "a"
      ]
    },
    {
      "cell_type": "markdown",
      "metadata": {
        "id": "vCziyFfhU81B"
      },
      "source": [
        "#### 55. What is the equivalent of enumerate for numpy arrays? (★★☆) \n",
        "(**hint**: np.ndenumerate, np.ndindex)"
      ]
    },
    {
      "cell_type": "code",
      "execution_count": null,
      "metadata": {
        "id": "4il3n1yMU81B",
        "colab": {
          "base_uri": "https://localhost:8080/"
        },
        "outputId": "b399d74b-a646-45bb-8ead-b3c997fe9b6d"
      },
      "outputs": [
        {
          "output_type": "stream",
          "name": "stdout",
          "text": [
            "(0, 0) 0\n",
            "(0, 1) 1\n",
            "(0, 2) 2\n",
            "(1, 0) 3\n",
            "(1, 1) 4\n",
            "(1, 2) 5\n",
            "(2, 0) 6\n",
            "(2, 1) 7\n",
            "(2, 2) 8\n",
            "(0, 0) 0\n",
            "(0, 1) 1\n",
            "(0, 2) 2\n",
            "(1, 0) 3\n",
            "(1, 1) 4\n",
            "(1, 2) 5\n",
            "(2, 0) 6\n",
            "(2, 1) 7\n",
            "(2, 2) 8\n"
          ]
        }
      ],
      "source": [
        "b = np.arange(9).reshape(3,3)\n",
        "for index, value in np.ndenumerate(b):\n",
        "    print(index, value)\n",
        "for index in np.ndindex(b.shape):\n",
        "    print(index, b[index])"
      ]
    },
    {
      "cell_type": "markdown",
      "metadata": {
        "id": "FWiT_2wPU81C"
      },
      "source": [
        "#### 56. Generate a generic 2D Gaussian-like array (★★☆) \n",
        "(**hint**: np.meshgrid, np.exp)"
      ]
    },
    {
      "cell_type": "code",
      "execution_count": null,
      "metadata": {
        "id": "qN_5r5OBU81C",
        "colab": {
          "base_uri": "https://localhost:8080/"
        },
        "outputId": "1094d502-d8b7-4e06-b8d2-f0543d39b31e"
      },
      "outputs": [
        {
          "output_type": "stream",
          "name": "stdout",
          "text": [
            "[[0.36787944 0.44822088 0.51979489 0.57375342 0.60279818 0.60279818\n",
            "  0.57375342 0.51979489 0.44822088 0.36787944]\n",
            " [0.44822088 0.54610814 0.63331324 0.69905581 0.73444367 0.73444367\n",
            "  0.69905581 0.63331324 0.54610814 0.44822088]\n",
            " [0.51979489 0.63331324 0.73444367 0.81068432 0.85172308 0.85172308\n",
            "  0.81068432 0.73444367 0.63331324 0.51979489]\n",
            " [0.57375342 0.69905581 0.81068432 0.89483932 0.9401382  0.9401382\n",
            "  0.89483932 0.81068432 0.69905581 0.57375342]\n",
            " [0.60279818 0.73444367 0.85172308 0.9401382  0.98773022 0.98773022\n",
            "  0.9401382  0.85172308 0.73444367 0.60279818]\n",
            " [0.60279818 0.73444367 0.85172308 0.9401382  0.98773022 0.98773022\n",
            "  0.9401382  0.85172308 0.73444367 0.60279818]\n",
            " [0.57375342 0.69905581 0.81068432 0.89483932 0.9401382  0.9401382\n",
            "  0.89483932 0.81068432 0.69905581 0.57375342]\n",
            " [0.51979489 0.63331324 0.73444367 0.81068432 0.85172308 0.85172308\n",
            "  0.81068432 0.73444367 0.63331324 0.51979489]\n",
            " [0.44822088 0.54610814 0.63331324 0.69905581 0.73444367 0.73444367\n",
            "  0.69905581 0.63331324 0.54610814 0.44822088]\n",
            " [0.36787944 0.44822088 0.51979489 0.57375342 0.60279818 0.60279818\n",
            "  0.57375342 0.51979489 0.44822088 0.36787944]]\n"
          ]
        }
      ],
      "source": [
        "x,y = np.meshgrid(np.linspace(-1,1,10), np.linspace(-1,1,10))\n",
        "D = np.sqrt(x*x+y*y)\n",
        "sigma, mu = 1.0, 0.0\n",
        "G = np.exp(-( (D-mu)**2 / ( 2.0 * sigma**2 ) ) )\n",
        "print(G)\n",
        "     "
      ]
    },
    {
      "cell_type": "markdown",
      "metadata": {
        "id": "e3vPUyBXU81D"
      },
      "source": [
        "#### 57. How to randomly place p elements in a 2D array? (★★☆) \n",
        "(**hint**: np.put, np.random.choice)"
      ]
    },
    {
      "cell_type": "code",
      "execution_count": null,
      "metadata": {
        "id": "idXbbauCU81D",
        "colab": {
          "base_uri": "https://localhost:8080/"
        },
        "outputId": "fcbba1ff-37b2-49a0-81d5-f1ab53737b18"
      },
      "outputs": [
        {
          "output_type": "stream",
          "name": "stdout",
          "text": [
            "[[0. 0. 0. 1. 0. 0. 0. 0. 0. 0.]\n",
            " [0. 0. 1. 0. 0. 0. 0. 1. 0. 0.]\n",
            " [0. 0. 1. 0. 0. 0. 0. 0. 0. 0.]\n",
            " [0. 0. 1. 0. 0. 0. 0. 0. 0. 0.]\n",
            " [0. 0. 0. 0. 0. 0. 0. 0. 0. 0.]\n",
            " [0. 0. 1. 0. 0. 0. 0. 1. 0. 1.]\n",
            " [0. 0. 0. 0. 1. 0. 0. 0. 0. 0.]\n",
            " [0. 0. 0. 0. 0. 0. 0. 0. 0. 0.]\n",
            " [0. 0. 0. 0. 0. 0. 0. 0. 0. 0.]\n",
            " [0. 0. 0. 0. 0. 0. 0. 0. 0. 0.]]\n"
          ]
        }
      ],
      "source": [
        "n = 10\n",
        "p = 9\n",
        "e = np.zeros((n,n))\n",
        "np.put(e, np.random.choice(range(n*n), p, replace=False),1)\n",
        "print(e)"
      ]
    },
    {
      "cell_type": "markdown",
      "metadata": {
        "id": "SAxVG95jU81F"
      },
      "source": [
        "#### 59. How to sort an array by the nth column? (★★☆) \n",
        "(**hint**: argsort)"
      ]
    },
    {
      "cell_type": "code",
      "execution_count": null,
      "metadata": {
        "id": "22qzJ1NPU81F",
        "colab": {
          "base_uri": "https://localhost:8080/"
        },
        "outputId": "2c915805-dc5e-43ae-adfd-3bf9c16e30f4"
      },
      "outputs": [
        {
          "output_type": "stream",
          "name": "stdout",
          "text": [
            "[[1 1 3 0]\n",
            " [3 3 1 0]\n",
            " [4 3 1 0]\n",
            " [2 1 1 1]]\n",
            "[[1 1 3 0]\n",
            " [2 1 1 1]\n",
            " [3 3 1 0]\n",
            " [4 3 1 0]]\n"
          ]
        }
      ],
      "source": [
        "a = np.random.randint(0,5,(4,4))\n",
        "print(a)\n",
        "print(a[a[:,1].argsort()])"
      ]
    },
    {
      "cell_type": "markdown",
      "metadata": {
        "id": "b0XAS4MJU81G"
      },
      "source": [
        "#### 60. How to tell if a given 2D array has null columns? (★★☆) \n",
        "(**hint**: any, ~)"
      ]
    },
    {
      "cell_type": "code",
      "execution_count": null,
      "metadata": {
        "id": "nkSIDKtVU81G",
        "colab": {
          "base_uri": "https://localhost:8080/"
        },
        "outputId": "aced4b32-1dab-408d-8dbd-5b2a114c0ee9"
      },
      "outputs": [
        {
          "output_type": "stream",
          "name": "stdout",
          "text": [
            "True\n"
          ]
        }
      ],
      "source": [
        "a = np.random.randint(0,3,(3,3))\n",
        "print((~a.any(axis=0)).any())"
      ]
    },
    {
      "cell_type": "markdown",
      "metadata": {
        "id": "_0Xzw8OcU81H"
      },
      "source": [
        "#### 61. Find the nearest value from a given value in an array (★★☆) \n",
        "(**hint**: np.abs, argmin, flat)"
      ]
    },
    {
      "cell_type": "code",
      "execution_count": null,
      "metadata": {
        "id": "xScUpNcQU81H",
        "colab": {
          "base_uri": "https://localhost:8080/"
        },
        "outputId": "7ca6f8c2-261b-47d5-c9c6-c79a0fd79516"
      },
      "outputs": [
        {
          "output_type": "stream",
          "name": "stdout",
          "text": [
            "0.4916274559516335\n"
          ]
        }
      ],
      "source": [
        "a = np.random.uniform(0,1,5)\n",
        "b = 0.5\n",
        "m = a.flat[np.abs(a - b).argmin()]\n",
        "print(m)\n",
        "     "
      ]
    },
    {
      "cell_type": "markdown",
      "metadata": {
        "id": "N9XkXnNmU81I"
      },
      "source": [
        "#### 62. Considering two arrays with shape (1,3) and (3,1), how to compute their sum using an iterator? (★★☆) \n",
        "(**hint**: np.nditer)"
      ]
    },
    {
      "cell_type": "code",
      "execution_count": null,
      "metadata": {
        "id": "o9yj0QDwU81I",
        "colab": {
          "base_uri": "https://localhost:8080/"
        },
        "outputId": "536cea75-5d31-4f81-e620-3351acf8d473"
      },
      "outputs": [
        {
          "output_type": "stream",
          "name": "stdout",
          "text": [
            "[[0 1 2]\n",
            " [1 2 3]\n",
            " [2 3 4]]\n"
          ]
        }
      ],
      "source": [
        "A = np.arange(3).reshape(3,1)\n",
        "B = np.arange(3).reshape(1,3)\n",
        "it = np.nditer([A,B,None])\n",
        "for x,y,z in it: z[...] = x + y\n",
        "print(it.operands[2])"
      ]
    },
    {
      "cell_type": "markdown",
      "metadata": {
        "id": "woq9S4WWU81I"
      },
      "source": [
        "#### 63. Create an array class that has a name attribute (★★☆) \n",
        "(**hint**: class method)"
      ]
    },
    {
      "cell_type": "code",
      "execution_count": null,
      "metadata": {
        "id": "IuZRGTldU81J",
        "colab": {
          "base_uri": "https://localhost:8080/"
        },
        "outputId": "e50289e1-6c27-4a99-8bb0-a7881a9391a6"
      },
      "outputs": [
        {
          "output_type": "stream",
          "name": "stdout",
          "text": [
            "range_10\n"
          ]
        }
      ],
      "source": [
        "class name_arr(np.ndarray):\n",
        "  def __new__(cls,array,name=\"no name\"):\n",
        "      obj = np.asarray(array).view(cls)\n",
        "      obj.name = name\n",
        "      return obj\n",
        "  def __array_finalize__(self, obj):\n",
        "      if obj is None: return\n",
        "      self.info = getattr(obj, 'name', \"no name\")\n",
        "Z = name_arr(np.arange(10), \"range_10\")\n",
        "print (Z.name)\n",
        "     "
      ]
    },
    {
      "cell_type": "markdown",
      "metadata": {
        "id": "WW6rlU-KU81J"
      },
      "source": [
        "#### 64. Consider a given vector, how to add 1 to each element indexed by a second vector (be careful with repeated indices)? (★★★) \n",
        "(**hint**: np.bincount | np.add.at)"
      ]
    },
    {
      "cell_type": "code",
      "execution_count": null,
      "metadata": {
        "id": "fxXLnjH7U81K",
        "colab": {
          "base_uri": "https://localhost:8080/"
        },
        "outputId": "9c01f66b-8e2f-4aa1-f5fe-8ce50b3966b6"
      },
      "outputs": [
        {
          "output_type": "stream",
          "name": "stdout",
          "text": [
            "[0 1 2 3 4 5 6 7 8 9]\n"
          ]
        }
      ],
      "source": [
        "B = np.ones(10)\n",
        "C = np.random.randint(0,len(B),20)\n",
        "np.add.at(B, C, 1)\n",
        "print(Z)"
      ]
    },
    {
      "cell_type": "markdown",
      "metadata": {
        "id": "ebgALt0yU81K"
      },
      "source": [
        "#### 65. How to accumulate elements of a vector (X) to an array (F) based on an index list (I)? (★★★) \n",
        "(**hint**: np.bincount)"
      ]
    },
    {
      "cell_type": "code",
      "execution_count": null,
      "metadata": {
        "id": "QcKNMoNgU81L",
        "colab": {
          "base_uri": "https://localhost:8080/"
        },
        "outputId": "ba1befd0-4fc7-4139-d661-14a7545bc653"
      },
      "outputs": [
        {
          "output_type": "stream",
          "name": "stdout",
          "text": [
            "[0. 7. 0. 6. 5. 0. 0. 0. 0. 3.]\n"
          ]
        }
      ],
      "source": [
        "X = [1,2,3,4,5,6]\n",
        "I = [1,3,9,3,4,1]\n",
        "F = np.bincount(I,X)\n",
        "print(F)\n",
        "     "
      ]
    },
    {
      "cell_type": "markdown",
      "metadata": {
        "id": "hzMDTtK-U81M"
      },
      "source": [
        "#### 66. Considering a (w,h,3) image of (dtype=ubyte), compute the number of unique colors (★★★) \n",
        "(**hint**: np.unique)"
      ]
    },
    {
      "cell_type": "code",
      "execution_count": null,
      "metadata": {
        "id": "H-KMoTzMU81N",
        "colab": {
          "base_uri": "https://localhost:8080/"
        },
        "outputId": "549e5cd4-fb8a-49c2-9205-718d207bb0d4"
      },
      "outputs": [
        {
          "output_type": "stream",
          "name": "stdout",
          "text": [
            "64\n"
          ]
        }
      ],
      "source": [
        "w, h = 200, 256\n",
        "I = np.random.randint(0, 4, (h, w, 3)).astype(np.ubyte)\n",
        "colors = np.unique(I.reshape(-1, 3), axis=0)\n",
        "n = len(colors)\n",
        "print(n)\n"
      ]
    },
    {
      "cell_type": "markdown",
      "metadata": {
        "id": "Y25yoUtyU81N"
      },
      "source": [
        "#### 67. Considering a four dimensions array, how to get sum over the last two axis at once? (★★★) \n",
        "(**hint**: sum(axis=(-2,-1)))"
      ]
    },
    {
      "cell_type": "code",
      "execution_count": null,
      "metadata": {
        "id": "NTi4FUNkU81P",
        "colab": {
          "base_uri": "https://localhost:8080/"
        },
        "outputId": "f7137c03-7948-4815-ffe5-b973a6d9e86e"
      },
      "outputs": [
        {
          "output_type": "stream",
          "name": "stdout",
          "text": [
            "[[47 40 52 64]\n",
            " [39 62 43 43]\n",
            " [63 65 45 61]]\n"
          ]
        }
      ],
      "source": [
        "A = np.random.randint(0,10,(3,4,3,4))\n",
        "sum = A.sum(axis=(-2,-1))\n",
        "print(sum)"
      ]
    },
    {
      "cell_type": "markdown",
      "metadata": {
        "id": "sAq6ykVOU81Q"
      },
      "source": [
        "#### 68. Considering a one-dimensional vector D, how to compute means of subsets of D using a vector S of same size describing subset  indices? (★★★) \n",
        "(**hint**: np.bincount)"
      ]
    },
    {
      "cell_type": "code",
      "execution_count": null,
      "metadata": {
        "id": "pa9mpxHoU81R",
        "colab": {
          "base_uri": "https://localhost:8080/"
        },
        "outputId": "1e0380fb-8e69-4550-ae1d-95dea1f49b4f"
      },
      "outputs": [
        {
          "output_type": "stream",
          "name": "stdout",
          "text": [
            "[0.62052639 0.0212811  0.37600972 0.50292603 0.40883917 0.77625277\n",
            " 0.34445819 0.41142253 0.2787909  0.47593992]\n"
          ]
        }
      ],
      "source": [
        "D = np.random.uniform(0,1,50)\n",
        "S = np.random.randint(0,10,50)\n",
        "D_sum = np.bincount(S, weights=D)\n",
        "D_count = np.bincount(S)\n",
        "D_mean = D_sum / D_count\n",
        "print(D_mean)"
      ]
    },
    {
      "cell_type": "markdown",
      "metadata": {
        "id": "JkLLHhBuU81R"
      },
      "source": [
        "#### 69. How to get the diagonal of a dot product? (★★★) \n",
        "(**hint**: np.diag)"
      ]
    },
    {
      "cell_type": "code",
      "execution_count": 4,
      "metadata": {
        "id": "tVTAVz8UU81S",
        "colab": {
          "base_uri": "https://localhost:8080/"
        },
        "outputId": "850243cc-ee72-48bb-e453-08fa853226d7"
      },
      "outputs": [
        {
          "output_type": "execute_result",
          "data": {
            "text/plain": [
              "array([1.58724802, 0.71097341, 0.68808151, 0.57247496])"
            ]
          },
          "metadata": {},
          "execution_count": 4
        }
      ],
      "source": [
        "A = np.random.uniform(0,1,(4,4))\n",
        "B = np.random.uniform(0,1,(4,4))\n",
        "np.sum(A * B.T, axis=1)"
      ]
    },
    {
      "cell_type": "markdown",
      "metadata": {
        "id": "XZomRDGIU81T"
      },
      "source": [
        "#### 70. Consider the vector \\[1, 2, 3, 4, 5\\], how to build a new vector with 3 consecutive zeros interleaved between each value? (★★★) \n",
        "(**hint**: array\\[::4\\])"
      ]
    },
    {
      "cell_type": "code",
      "execution_count": null,
      "metadata": {
        "id": "mQRP3Y4wU81U",
        "colab": {
          "base_uri": "https://localhost:8080/"
        },
        "outputId": "3fa319de-fe30-4e14-e5fd-3f706152e0b3"
      },
      "outputs": [
        {
          "output_type": "stream",
          "name": "stdout",
          "text": [
            "[1. 0. 0. 0. 2. 0. 0. 0. 3. 0. 0. 0. 4. 0. 0. 0. 5.]\n"
          ]
        }
      ],
      "source": [
        "Z = np.array([1,2,3,4,5])\n",
        "nz = 3\n",
        "Z0 = np.zeros(len(Z) + (len(Z)-1)*(nz))\n",
        "Z0[::nz+1] = Z\n",
        "print(Z0)"
      ]
    },
    {
      "cell_type": "markdown",
      "metadata": {
        "id": "rTYsBDkrU81V"
      },
      "source": [
        "#### 71. Consider an array of dimension (5,5,3), how to mulitply it by an array with dimensions (5,5)? (★★★) \n",
        "(**hint**: array\\[:, :, None\\])"
      ]
    },
    {
      "cell_type": "code",
      "execution_count": 6,
      "metadata": {
        "collapsed": true,
        "id": "c4585o3mU81W",
        "colab": {
          "base_uri": "https://localhost:8080/"
        },
        "outputId": "f8bdcc32-e062-4bb7-fc5e-e77dd56b93f5"
      },
      "outputs": [
        {
          "output_type": "stream",
          "name": "stdout",
          "text": [
            "[[[2. 2. 2.]\n",
            "  [2. 2. 2.]\n",
            "  [2. 2. 2.]\n",
            "  [2. 2. 2.]\n",
            "  [2. 2. 2.]]\n",
            "\n",
            " [[2. 2. 2.]\n",
            "  [2. 2. 2.]\n",
            "  [2. 2. 2.]\n",
            "  [2. 2. 2.]\n",
            "  [2. 2. 2.]]\n",
            "\n",
            " [[2. 2. 2.]\n",
            "  [2. 2. 2.]\n",
            "  [2. 2. 2.]\n",
            "  [2. 2. 2.]\n",
            "  [2. 2. 2.]]\n",
            "\n",
            " [[2. 2. 2.]\n",
            "  [2. 2. 2.]\n",
            "  [2. 2. 2.]\n",
            "  [2. 2. 2.]\n",
            "  [2. 2. 2.]]\n",
            "\n",
            " [[2. 2. 2.]\n",
            "  [2. 2. 2.]\n",
            "  [2. 2. 2.]\n",
            "  [2. 2. 2.]\n",
            "  [2. 2. 2.]]]\n"
          ]
        }
      ],
      "source": [
        "A = np.ones((5,5,3))\n",
        "B = 2*np.ones((5,5))\n",
        "print(A * B[:,:,None])"
      ]
    },
    {
      "cell_type": "markdown",
      "metadata": {
        "id": "9qL4WrYiU81X"
      },
      "source": [
        "#### 72. How to swap two rows of an array? (★★★) \n",
        "(**hint**: array\\[\\[\\]\\] = array\\[\\[\\]\\])"
      ]
    },
    {
      "cell_type": "code",
      "execution_count": null,
      "metadata": {
        "id": "6njTZTqPU81Y",
        "colab": {
          "base_uri": "https://localhost:8080/"
        },
        "outputId": "329b7cd9-43bf-41db-e329-9884db95d742"
      },
      "outputs": [
        {
          "output_type": "stream",
          "name": "stdout",
          "text": [
            "[[ 5  6  7  8  9]\n",
            " [ 0  1  2  3  4]\n",
            " [10 11 12 13 14]\n",
            " [15 16 17 18 19]\n",
            " [20 21 22 23 24]]\n"
          ]
        }
      ],
      "source": [
        "B = np.arange(25).reshape(5,5)\n",
        "B[[0,1]] = B[[1,0]]\n",
        "print(B)"
      ]
    },
    {
      "cell_type": "markdown",
      "metadata": {
        "id": "Ez53IQzmU81Z"
      },
      "source": [
        "#### 73. Consider a set of 10 triplets describing 10 triangles (with shared vertices), find the set of unique line segments composing all the  triangles (★★★) \n",
        "(**hint**: repeat, np.roll, np.sort, view, np.unique)"
      ]
    },
    {
      "cell_type": "code",
      "execution_count": null,
      "metadata": {
        "id": "FqvAfvCwU81a",
        "colab": {
          "base_uri": "https://localhost:8080/"
        },
        "outputId": "d09408f8-a248-47f6-dddd-ed386ec1b8cd"
      },
      "outputs": [
        {
          "output_type": "stream",
          "name": "stdout",
          "text": [
            "[( 6, 12) ( 6, 97) ( 8, 80) ( 8, 92) (11, 20) (11, 95) (12, 58) (12, 82)\n",
            " (12, 97) (16, 51) (16, 70) (20, 95) (25, 28) (25, 58) (28, 58) (34, 77)\n",
            " (34, 99) (43, 92) (43, 98) (45, 62) (45, 64) (51, 70) (58, 82) (62, 64)\n",
            " (69, 78) (69, 98) (77, 99) (78, 98) (80, 92) (92, 98)]\n"
          ]
        }
      ],
      "source": [
        "faces = np.random.randint(0,100,(10,3))\n",
        "F = np.roll(faces.repeat(2,axis=1),-1,axis=1)\n",
        "F = F.reshape(len(F)*3,2)\n",
        "F = np.sort(F,axis=1)\n",
        "G = F.view( dtype=[('p0',F.dtype),('p1',F.dtype)] )\n",
        "G = np.unique(G)\n",
        "print(G)"
      ]
    },
    {
      "cell_type": "markdown",
      "metadata": {
        "id": "01C7GjHyU81b"
      },
      "source": [
        "#### 74. Given an array C that is a bincount, how to produce an array A such that np.bincount(A) == C? (★★★) \n",
        "(**hint**: np.repeat)"
      ]
    },
    {
      "cell_type": "code",
      "execution_count": null,
      "metadata": {
        "id": "xVvpVso3U81c",
        "colab": {
          "base_uri": "https://localhost:8080/"
        },
        "outputId": "a5040d21-fbd8-4dd7-a8dc-ca0cf2eaa400"
      },
      "outputs": [
        {
          "output_type": "stream",
          "name": "stdout",
          "text": [
            "[1 1 2 3 4 4 6]\n"
          ]
        }
      ],
      "source": [
        "C = np.bincount([1,1,2,3,4,4,6])\n",
        "A = np.repeat(np.arange(len(C)), C)\n",
        "print(A)"
      ]
    },
    {
      "cell_type": "markdown",
      "metadata": {
        "id": "QHUNAc-aU81d"
      },
      "source": [
        "#### 75. How to compute averages using a sliding window over an array? (★★★) \n",
        "(**hint**: np.cumsum)"
      ]
    },
    {
      "cell_type": "code",
      "execution_count": null,
      "metadata": {
        "id": "ulJRxzutU81i",
        "colab": {
          "base_uri": "https://localhost:8080/"
        },
        "outputId": "95d769aa-8b5c-4842-8d36-2a8f3b5edc07"
      },
      "outputs": [
        {
          "output_type": "stream",
          "name": "stdout",
          "text": [
            "[ 1.  2.  3.  4.  5.  6.  7.  8.  9. 10. 11. 12. 13. 14. 15. 16. 17. 18.]\n"
          ]
        }
      ],
      "source": [
        "from numpy.lib.stride_tricks import sliding_window_view\n",
        "Z = np.arange(20)\n",
        "print(sliding_window_view(Z, window_shape=3).mean(axis=-1))"
      ]
    },
    {
      "cell_type": "markdown",
      "metadata": {
        "id": "40RHIgg2U81k"
      },
      "source": [
        "#### 76. Consider a one-dimensional array Z, build a two-dimensional array whose first row is (Z\\[0\\],Z\\[1\\],Z\\[2\\]) and each subsequent row is  shifted by 1 (last row should be (Z\\[-3\\],Z\\[-2\\],Z\\[-1\\]) (★★★) \n",
        "(**hint**: from numpy.lib import stride_tricks)"
      ]
    },
    {
      "cell_type": "code",
      "execution_count": null,
      "metadata": {
        "id": "41rp_AEUU81l",
        "colab": {
          "base_uri": "https://localhost:8080/"
        },
        "outputId": "e45f6b01-606c-428e-ac9d-88e2bc7a247f"
      },
      "outputs": [
        {
          "output_type": "stream",
          "name": "stdout",
          "text": [
            "[[0 1 2]\n",
            " [1 2 3]\n",
            " [2 3 4]\n",
            " [3 4 5]\n",
            " [4 5 6]\n",
            " [5 6 7]\n",
            " [6 7 8]\n",
            " [7 8 9]]\n"
          ]
        }
      ],
      "source": [
        "Z = np.arange(10)\n",
        "print(sliding_window_view(Z, window_shape=3))\n",
        "     "
      ]
    },
    {
      "cell_type": "markdown",
      "metadata": {
        "id": "7oIfOa6pU81m"
      },
      "source": [
        "#### 77. How to negate a boolean, or to change the sign of a float inplace? (★★★) \n",
        "(**hint**: np.logical_not, np.negative)"
      ]
    },
    {
      "cell_type": "code",
      "execution_count": null,
      "metadata": {
        "id": "ouonX3CaU81n",
        "colab": {
          "base_uri": "https://localhost:8080/"
        },
        "outputId": "b899ddfd-bd8b-4bf6-94a6-997f2254672e"
      },
      "outputs": [
        {
          "output_type": "execute_result",
          "data": {
            "text/plain": [
              "array([-0.1578208 , -0.26027091, -0.47850538, -0.85305268, -0.07621103,\n",
              "        0.64866335,  0.37796915,  0.36786567,  0.11789339, -0.26465504,\n",
              "       -0.00121401,  0.87408021, -0.06889478,  0.3907058 ,  0.90194693,\n",
              "       -0.288693  ,  0.48586046,  0.38508632,  0.09202356,  0.5783883 ,\n",
              "       -0.68769946,  0.82841919, -0.89594782, -0.09615725, -0.68790223,\n",
              "       -0.94074677,  0.45322875,  0.73657821,  0.81606979,  0.7933909 ,\n",
              "       -0.75751782,  0.67042954, -0.63928181,  0.0149845 ,  0.23032727,\n",
              "       -0.33337088,  0.66582364, -0.83081988, -0.86829572,  0.29565578,\n",
              "        0.96526788,  0.57345066,  0.10709081, -0.90171002, -0.75029048,\n",
              "       -0.50538117,  0.23211046,  0.03125206,  0.17795698, -0.46687873,\n",
              "        0.5968489 , -0.36134368,  0.04380838, -0.29062085,  0.83716012,\n",
              "        0.31074858,  0.33819734, -0.30128624,  0.18684387, -0.73703986,\n",
              "       -0.13241645, -0.3893831 ,  0.26789959,  0.56613785, -0.58936547,\n",
              "       -0.09478114, -0.56117486, -0.06178512,  0.22863754, -0.15556962,\n",
              "        0.01708486, -0.71882085, -0.09027059, -0.06348385,  0.51265304,\n",
              "        0.28821394, -0.60591823,  0.48954763,  0.63315065,  0.63206845,\n",
              "       -0.16187255, -0.89314264, -0.72788781,  0.20018748, -0.27528258,\n",
              "       -0.31893296,  0.99119219,  0.92130379,  0.57506919,  0.97439767,\n",
              "        0.41276458, -0.86172946,  0.21426767, -0.16977663, -0.08873452,\n",
              "        0.33669504,  0.54022981,  0.56357646, -0.40451855, -0.18692039])"
            ]
          },
          "metadata": {},
          "execution_count": 28
        }
      ],
      "source": [
        "Z = np.random.randint(0,2,100)\n",
        "np.logical_not(Z, out=Z)\n",
        "\n",
        "Z = np.random.uniform(-1.0,1.0,100)\n",
        "np.negative(Z, out=Z)"
      ]
    },
    {
      "cell_type": "markdown",
      "metadata": {
        "id": "FWY3q-1kU81o"
      },
      "source": [
        "#### 78. Consider 2 sets of points P0,P1 describing lines (2d) and a point p, how to compute distance from p to each line i  (P0\\[i\\],P1\\[i\\])? (★★★)"
      ]
    },
    {
      "cell_type": "code",
      "execution_count": null,
      "metadata": {
        "id": "I5VbWGIMU81p",
        "colab": {
          "base_uri": "https://localhost:8080/"
        },
        "outputId": "9ae245b4-16d6-4b79-fecc-7ad450f6da3d"
      },
      "outputs": [
        {
          "output_type": "stream",
          "name": "stdout",
          "text": [
            "[0.41635799 3.58014162 5.78295979 3.52918454 9.36580822 7.19561188\n",
            " 0.16284924 1.42117858 5.43240766 3.04443914]\n"
          ]
        }
      ],
      "source": [
        "def distance(P0, P1, p):\n",
        "    T = P1 - P0\n",
        "    L = (T**2).sum(axis=1)\n",
        "    U = -((P0[:,0]-p[...,0])*T[:,0] + (P0[:,1]-p[...,1])*T[:,1]) / L\n",
        "    U = U.reshape(len(U),1)\n",
        "    D = P0 + U*T - p\n",
        "    return np.sqrt((D**2).sum(axis=1))\n",
        "P0 = np.random.uniform(-10,10,(10,2))\n",
        "P1 = np.random.uniform(-10,10,(10,2))\n",
        "p  = np.random.uniform(-10,10,( 1,2))\n",
        "print(distance(P0, P1, p))"
      ]
    },
    {
      "cell_type": "markdown",
      "metadata": {
        "id": "6gJ0LyZKU81q"
      },
      "source": [
        "#### 79. Consider 2 sets of points P0,P1 describing lines (2d) and a set of points P, how to compute distance from each point j (P\\[j\\]) to each line i (P0\\[i\\],P1\\[i\\])? (★★★)"
      ]
    },
    {
      "cell_type": "code",
      "execution_count": null,
      "metadata": {
        "id": "rK0yrbpJU81r",
        "colab": {
          "base_uri": "https://localhost:8080/"
        },
        "outputId": "b01e32ee-9bf8-4ea6-cf1b-f2a97e31eaba"
      },
      "outputs": [
        {
          "output_type": "stream",
          "name": "stdout",
          "text": [
            "[[11.14262358  9.39177223  0.01788406  0.98424886  9.15042303  5.08585833\n",
            "  14.53472991  3.7261354  15.28301045  7.51188456]\n",
            " [ 3.6671866   0.50519809  7.61880307  1.6342362   0.05121443  6.84452736\n",
            "   6.10692169  3.284237    7.16122398  8.14928305]\n",
            " [ 1.04260403  1.87597971  4.16867507  5.07485329  0.15220653  0.09510258\n",
            "   8.29208224 10.44720538  3.23892814  1.00987848]\n",
            " [ 0.83547443  0.0739031   0.40419351  9.57312569  3.49313798  4.40479487\n",
            "  12.49394032 14.39941089  4.09652991  3.00048316]\n",
            " [ 9.33135723 12.86336244 15.50011263  0.77430661 11.99291445  4.69103174\n",
            "   3.69401179  7.33476514  6.18753449  4.37419248]\n",
            " [ 4.11532726  3.94198     3.23002292  8.12060139  0.71107853  3.34081985\n",
            "   8.52395392 13.93519476  0.48968872  2.44687264]\n",
            " [ 3.50750788  1.71917748  1.22942774 12.23081668  2.74878877  7.23603929\n",
            "  12.70374849 17.4406735   1.70710008  6.01468965]\n",
            " [ 5.05490598  0.94007622 14.13252213  9.18816047  3.87094163 14.25875985\n",
            "   0.46232502  3.79128733  7.51977992 15.28432432]\n",
            " [ 8.70401971  9.09516138  4.16592657  6.8903378  10.90027264  0.84905098\n",
            "  17.84708122  9.60026624 13.59979647  1.62096984]\n",
            " [ 7.89607627  8.98198158  8.47116299  5.37903754  6.3021903   1.08687327\n",
            "   2.99075515 12.45000757  3.82052134  0.84592136]]\n"
          ]
        }
      ],
      "source": [
        "P0 = np.random.uniform(-10, 10, (10,2))\n",
        "P1 = np.random.uniform(-10,10,(10,2))\n",
        "p = np.random.uniform(-10, 10, (10,2))\n",
        "print(np.array([distance(P0,P1,p_i) for p_i in p]))"
      ]
    },
    {
      "cell_type": "markdown",
      "metadata": {
        "id": "9Cfj3_DLU81t"
      },
      "source": [
        "#### 81. Consider an array Z = \\[1,2,3,4,5,6,7,8,9,10,11,12,13,14\\], how to generate an array R = \\[\\[1,2,3,4\\], \\[2,3,4,5\\], \\[3,4,5,6\\], ..., \\[11,12,13,14\\]\\]? (★★★) \n",
        "(**hint**: stride\\_tricks.as\\_strided)"
      ]
    },
    {
      "cell_type": "code",
      "execution_count": null,
      "metadata": {
        "id": "Po02qWcXU81v",
        "colab": {
          "base_uri": "https://localhost:8080/"
        },
        "outputId": "b66a3c2f-269c-4107-d923-e4447bc5f132"
      },
      "outputs": [
        {
          "output_type": "stream",
          "name": "stdout",
          "text": [
            "[[ 1  2  3  4]\n",
            " [ 2  3  4  5]\n",
            " [ 3  4  5  6]\n",
            " [ 4  5  6  7]\n",
            " [ 5  6  7  8]\n",
            " [ 6  7  8  9]\n",
            " [ 7  8  9 10]\n",
            " [ 8  9 10 11]\n",
            " [ 9 10 11 12]\n",
            " [10 11 12 13]\n",
            " [11 12 13 14]]\n"
          ]
        }
      ],
      "source": [
        "from numpy.lib.stride_tricks import sliding_window_view\n",
        "Z= np.arange(1,15,dtype=np.uint32)\n",
        "print(sliding_window_view(Z, window_shape=4))"
      ]
    },
    {
      "cell_type": "markdown",
      "metadata": {
        "id": "eiW3ud0vU810"
      },
      "source": [
        "#### 82. Compute a matrix rank (★★★) \n",
        "(**hint**: np.linalg.svd) (suggestion: np.linalg.svd)"
      ]
    },
    {
      "cell_type": "code",
      "execution_count": null,
      "metadata": {
        "id": "OZ0jghzfU811",
        "colab": {
          "base_uri": "https://localhost:8080/"
        },
        "outputId": "636cd47d-23c2-4553-f410-e9bac2ab0528"
      },
      "outputs": [
        {
          "output_type": "stream",
          "name": "stdout",
          "text": [
            "10\n"
          ]
        }
      ],
      "source": [
        "Z = np.random.uniform(0,1,(10,10))\n",
        "Z\n",
        "U, S, V = np.linalg.svd(Z) \n",
        "rank = np.sum(S > 1e-10)\n",
        "print(rank)"
      ]
    },
    {
      "cell_type": "markdown",
      "metadata": {
        "id": "vChzGsIzU811"
      },
      "source": [
        "#### 83. How to find the most frequent value in an array? \n",
        "(**hint**: np.bincount, argmax)"
      ]
    },
    {
      "cell_type": "code",
      "execution_count": null,
      "metadata": {
        "id": "zNnAmPXDU812",
        "colab": {
          "base_uri": "https://localhost:8080/"
        },
        "outputId": "ef57224d-4ff2-4500-af9f-8d23b6112053"
      },
      "outputs": [
        {
          "output_type": "stream",
          "name": "stdout",
          "text": [
            "6\n"
          ]
        }
      ],
      "source": [
        "Z = np.random.randint(0,10,50)\n",
        "print(np.bincount(Z).argmax())"
      ]
    },
    {
      "cell_type": "markdown",
      "metadata": {
        "id": "lrqEFawcU812"
      },
      "source": [
        "#### 84. Extract all the contiguous 3x3 blocks from a random 10x10 matrix (★★★) \n",
        "(**hint**: stride\\_tricks.as\\_strided)"
      ]
    },
    {
      "cell_type": "code",
      "execution_count": null,
      "metadata": {
        "id": "-v-tZ1aYU813",
        "colab": {
          "base_uri": "https://localhost:8080/"
        },
        "outputId": "a0800ee4-0f7b-472b-def9-764c3af64bc1"
      },
      "outputs": [
        {
          "output_type": "stream",
          "name": "stdout",
          "text": [
            "[[[[0 0 3]\n",
            "   [4 2 0]\n",
            "   [2 1 0]]\n",
            "\n",
            "  [[0 3 4]\n",
            "   [2 0 1]\n",
            "   [1 0 3]]]\n",
            "\n",
            "\n",
            " [[[4 2 0]\n",
            "   [2 1 0]\n",
            "   [4 0 3]]\n",
            "\n",
            "  [[2 0 1]\n",
            "   [1 0 3]\n",
            "   [0 3 4]]]]\n"
          ]
        }
      ],
      "source": [
        "from numpy.lib.stride_tricks import sliding_window_view\n",
        "Z = np.random.randint(0,5,(4,4))\n",
        "print(sliding_window_view(Z, window_shape=(3, 3)))\n"
      ]
    },
    {
      "cell_type": "markdown",
      "metadata": {
        "id": "nZnpX2SSU813"
      },
      "source": [
        "#### 85. Create a 2D array subclass such that Z\\[i,j\\] == Z\\[j,i\\] (★★★) \n",
        "(**hint**: class method)"
      ]
    },
    {
      "cell_type": "code",
      "execution_count": null,
      "metadata": {
        "id": "8NKAcVyQU814",
        "colab": {
          "base_uri": "https://localhost:8080/"
        },
        "outputId": "fdb1b180-041a-4da2-9d5a-d2ee2fbd93a8"
      },
      "outputs": [
        {
          "output_type": "stream",
          "name": "stdout",
          "text": [
            "[[ 4 11  8  6  8]\n",
            " [11  0  7 15  9]\n",
            " [ 8  7  9 42  9]\n",
            " [ 6 15 42  2  8]\n",
            " [ 8  9  9  8  8]]\n"
          ]
        }
      ],
      "source": [
        "class Symetric(np.ndarray):\n",
        "    def __setitem__(self, index, value):\n",
        "        i,j = index\n",
        "        super(Symetric, self).__setitem__((i,j), value)\n",
        "        super(Symetric, self).__setitem__((j,i), value)\n",
        "\n",
        "def symetric(Z):\n",
        "    return np.asarray(Z + Z.T - np.diag(Z.diagonal())).view(Symetric)\n",
        "\n",
        "S = symetric(np.random.randint(0,10,(5,5)))\n",
        "S[2,3] = 42\n",
        "print(S)\n",
        "     "
      ]
    },
    {
      "cell_type": "markdown",
      "metadata": {
        "id": "xlYGFY2eU814"
      },
      "source": [
        "#### 86. Consider a set of p matrices wich shape (n,n) and a set of p vectors with shape (n,1). How to compute the sum of of the p matrix products at once? (result has shape (n,1)) (★★★) \n",
        "(**hint**: np.tensordot)"
      ]
    },
    {
      "cell_type": "code",
      "execution_count": null,
      "metadata": {
        "id": "wtRTg_2tU815",
        "colab": {
          "base_uri": "https://localhost:8080/"
        },
        "outputId": "9bea92cd-53dc-4f64-f759-fbfea30555a8"
      },
      "outputs": [
        {
          "output_type": "stream",
          "name": "stdout",
          "text": [
            "[[100.]\n",
            " [100.]\n",
            " [100.]\n",
            " [100.]\n",
            " [100.]\n",
            " [100.]\n",
            " [100.]\n",
            " [100.]\n",
            " [100.]\n",
            " [100.]]\n"
          ]
        }
      ],
      "source": [
        "p, n = 10, 10\n",
        "M = np.ones((p,n,n))\n",
        "V = np.ones((p,n,1))\n",
        "S = np.tensordot(M, V, axes=[[0, 2], [0, 1]])\n",
        "print(S)"
      ]
    },
    {
      "cell_type": "markdown",
      "metadata": {
        "id": "D4Pzcl0XU815"
      },
      "source": [
        "#### 87. Consider a 16x16 array, how to get the block-sum (block size is 4x4)? (★★★) \n",
        "(**hint**: np.add.reduceat)"
      ]
    },
    {
      "cell_type": "code",
      "execution_count": null,
      "metadata": {
        "id": "d1VN-kMiU816",
        "colab": {
          "base_uri": "https://localhost:8080/"
        },
        "outputId": "1f6c24a1-3ec8-409c-c693-eb990094fa86"
      },
      "outputs": [
        {
          "output_type": "stream",
          "name": "stdout",
          "text": [
            "[[16. 16. 16. 16.]\n",
            " [16. 16. 16. 16.]\n",
            " [16. 16. 16. 16.]\n",
            " [16. 16. 16. 16.]]\n"
          ]
        }
      ],
      "source": [
        "Z = np.ones((16,16))\n",
        "k = 4\n",
        "S = np.add.reduceat(np.add.reduceat(Z, np.arange(0, Z.shape[0], k), axis=0),\n",
        "                                       np.arange(0, Z.shape[1], k), axis=1)\n",
        "print(S)"
      ]
    },
    {
      "cell_type": "markdown",
      "metadata": {
        "id": "Btact70MU817"
      },
      "source": [
        "#### 89. How to get the n largest values of an array (★★★) \n",
        "(**hint**: np.argsort | np.argpartition)"
      ]
    },
    {
      "cell_type": "code",
      "execution_count": null,
      "metadata": {
        "id": "DqqCwTxVU818",
        "colab": {
          "base_uri": "https://localhost:8080/"
        },
        "outputId": "3f02a02d-cc10-4b47-980a-82cd8ec81a26"
      },
      "outputs": [
        {
          "output_type": "stream",
          "name": "stdout",
          "text": [
            "[9990 9991 9992 9993 9994 9995 9996 9997 9998 9999]\n"
          ]
        }
      ],
      "source": [
        "Z = np.arange(10000)\n",
        "print (Z[np.argsort(Z)[-n:]])"
      ]
    },
    {
      "cell_type": "markdown",
      "metadata": {
        "id": "XK58u0JNU819"
      },
      "source": [
        "#### 91. How to create a record array from a regular array? (★★★) \n",
        "(**hint**: np.core.records.fromarrays)"
      ]
    },
    {
      "cell_type": "code",
      "execution_count": null,
      "metadata": {
        "id": "_Hy1gRCgU819",
        "colab": {
          "base_uri": "https://localhost:8080/"
        },
        "outputId": "493a9ccf-cad3-48f1-9aeb-17609629afef"
      },
      "outputs": [
        {
          "output_type": "stream",
          "name": "stdout",
          "text": [
            "[(b'Hello', 2.5, 3) (b'World', 3.6, 2)]\n"
          ]
        }
      ],
      "source": [
        "Z = np.array([(\"Hello\", 2.5, 3),\n",
        "              (\"World\", 3.6, 2)])\n",
        "R = np.core.records.fromarrays(Z.T,\n",
        "                               names='col1, col2, col3',\n",
        "                               formats = 'S8, f8, i8')\n",
        "print(R)\n",
        "     "
      ]
    },
    {
      "cell_type": "markdown",
      "metadata": {
        "id": "42wLOhO2U81-"
      },
      "source": [
        "#### 93. Consider two arrays A and B of shape (8,3) and (2,2). How to find rows of A that contain elements of each row of B regardless of the order of the elements in B? (★★★) \n",
        "(**hint**: np.where)"
      ]
    },
    {
      "cell_type": "code",
      "execution_count": null,
      "metadata": {
        "id": "GO6xemo-U81-",
        "colab": {
          "base_uri": "https://localhost:8080/"
        },
        "outputId": "2bbca710-b196-4957-fffe-0ae9e258b1ff"
      },
      "outputs": [
        {
          "output_type": "stream",
          "name": "stdout",
          "text": [
            "[3 5]\n"
          ]
        }
      ],
      "source": [
        "A = np.random.randint(0,5,(8,3))\n",
        "B = np.random.randint(0,5,(2,2))\n",
        "\n",
        "C = (A[..., np.newaxis, np.newaxis] == B)\n",
        "rows = np.where(C.any((3,1)).all(1))[0]\n",
        "print(rows)\n",
        "     "
      ]
    },
    {
      "cell_type": "markdown",
      "metadata": {
        "id": "RV7_SprTU81-"
      },
      "source": [
        "#### 95. Convert a vector of ints into a matrix binary representation (★★★) \n",
        "(**hint**: np.unpackbits)"
      ]
    },
    {
      "cell_type": "code",
      "execution_count": 5,
      "metadata": {
        "id": "dd-PdKvlU81_",
        "colab": {
          "base_uri": "https://localhost:8080/"
        },
        "outputId": "1ecfb795-b4d9-4a9a-e8f5-c2e4c1fcf37d"
      },
      "outputs": [
        {
          "output_type": "stream",
          "name": "stdout",
          "text": [
            "[[0 0 0 0 0 0 0 0]\n",
            " [0 0 0 0 0 0 0 1]\n",
            " [0 0 0 0 0 0 1 0]\n",
            " [0 0 0 0 0 0 1 1]\n",
            " [0 0 0 0 1 1 1 1]\n",
            " [0 0 0 1 0 0 0 0]\n",
            " [0 0 1 0 0 0 0 0]\n",
            " [0 1 0 0 0 0 0 0]\n",
            " [1 0 0 0 0 0 0 0]]\n"
          ]
        }
      ],
      "source": [
        "I = np.array([0, 1, 2, 3, 15, 16, 32, 64, 128], dtype=np.uint8)\n",
        "print(np.unpackbits(I[:, np.newaxis], axis=1))"
      ]
    },
    {
      "cell_type": "markdown",
      "metadata": {
        "id": "Se1UMHbwU81_"
      },
      "source": [
        "#### 96. Given a two dimensional array, how to extract unique rows? (★★★) \n",
        "(**hint**: np.ascontiguousarray)"
      ]
    },
    {
      "cell_type": "code",
      "execution_count": null,
      "metadata": {
        "id": "9dQ1hm4LU81_",
        "colab": {
          "base_uri": "https://localhost:8080/"
        },
        "outputId": "5ba42602-13a4-482c-a6f2-7d7d32ddeace"
      },
      "outputs": [
        {
          "output_type": "stream",
          "name": "stdout",
          "text": [
            "[[0 0 0]\n",
            " [0 1 0]\n",
            " [0 1 1]\n",
            " [1 0 1]]\n"
          ]
        }
      ],
      "source": [
        "Z = np.random.randint(0,2,(6,3))\n",
        "T = np.ascontiguousarray(Z).view(np.dtype((np.void, Z.dtype.itemsize * Z.shape[1])))\n",
        "_, idx = np.unique(T, return_index=True)\n",
        "uZ = Z[idx]\n",
        "print(uZ)"
      ]
    },
    {
      "cell_type": "markdown",
      "metadata": {
        "id": "LPmK8SPrU82A"
      },
      "source": [
        "#### 97. Considering 2 vectors A & B, write the einsum equivalent of inner, outer, sum, and mul function (★★★) \n",
        "(**hint**: np.einsum)"
      ]
    },
    {
      "cell_type": "code",
      "execution_count": null,
      "metadata": {
        "id": "iI5NoV-SU82A",
        "colab": {
          "base_uri": "https://localhost:8080/"
        },
        "outputId": "fc38c0e0-107b-4e72-b1d3-19cbb81b21b7"
      },
      "outputs": [
        {
          "output_type": "execute_result",
          "data": {
            "text/plain": [
              "array([[5.15314062e-01, 8.86417249e-01, 7.51754829e-01, 3.63930140e-01,\n",
              "        9.13543994e-01, 1.00141664e-01, 8.24477555e-01, 4.66336588e-01,\n",
              "        7.04601512e-01, 3.49586690e-01],\n",
              "       [3.66645063e-01, 6.30684339e-01, 5.34872260e-01, 2.58935665e-01,\n",
              "        6.49984971e-01, 7.12506205e-02, 5.86614354e-01, 3.31797675e-01,\n",
              "        5.01322756e-01, 2.48730325e-01],\n",
              "       [2.22415268e-01, 3.82587522e-01, 3.24465727e-01, 1.57076287e-01,\n",
              "        3.94295726e-01, 4.32222534e-02, 3.55853662e-01, 2.01276046e-01,\n",
              "        3.04113832e-01, 1.50885495e-01],\n",
              "       [2.10141144e-01, 3.61474194e-01, 3.06559886e-01, 1.48407936e-01,\n",
              "        3.72536273e-01, 4.08370067e-02, 3.36215659e-01, 1.90168504e-01,\n",
              "        2.87331123e-01, 1.42558786e-01],\n",
              "       [1.22585504e-03, 2.10865400e-03, 1.78831225e-03, 8.65735347e-04,\n",
              "        2.17318446e-03, 2.38222033e-04, 1.96130873e-03, 1.10934496e-03,\n",
              "        1.67614156e-03, 8.31614425e-04],\n",
              "       [5.41618889e-01, 9.31665486e-01, 7.90129061e-01, 3.82507393e-01,\n",
              "        9.60176948e-01, 1.05253516e-01, 8.66564006e-01, 4.90141301e-01,\n",
              "        7.40568745e-01, 3.67431764e-01],\n",
              "       [2.45613736e-01, 4.22492356e-01, 3.58308312e-01, 1.73459736e-01,\n",
              "        4.35421754e-01, 4.77304423e-02, 3.92970088e-01, 2.22269641e-01,\n",
              "        3.35833664e-01, 1.66623229e-01],\n",
              "       [3.81906186e-01, 6.56935752e-01, 5.57135620e-01, 2.69713524e-01,\n",
              "        6.77039747e-01, 7.42163346e-02, 6.11031411e-01, 3.45608321e-01,\n",
              "        5.22189662e-01, 2.59083400e-01],\n",
              "       [3.43001691e-01, 5.90014202e-01, 5.00380635e-01, 2.42238011e-01,\n",
              "        6.08070219e-01, 6.66559726e-02, 5.48786102e-01, 3.10401462e-01,\n",
              "        4.68994595e-01, 2.32690770e-01],\n",
              "       [2.44221473e-01, 4.20097455e-01, 3.56277239e-01, 1.72476479e-01,\n",
              "        4.32953563e-01, 4.74598820e-02, 3.90742535e-01, 2.21009704e-01,\n",
              "        3.33929989e-01, 1.65678724e-01]])"
            ]
          },
          "metadata": {},
          "execution_count": 4
        }
      ],
      "source": [
        "A = np.random.uniform(0,1,10)\n",
        "B = np.random.uniform(0,1,10)\n",
        "\n",
        "np.einsum('i->', A)       \n",
        "np.einsum('i,i->i', A, B) \n",
        "np.einsum('i,i', A, B)    \n",
        "np.einsum('i,j->ij', A, B)"
      ]
    },
    {
      "cell_type": "markdown",
      "metadata": {
        "id": "yNykUhxyU82B"
      },
      "source": [
        "#### 98. Considering a path described by two vectors (X,Y), how to sample it using equidistant samples (★★★)? \n",
        "(**hint**: np.cumsum, np.interp)"
      ]
    },
    {
      "cell_type": "code",
      "execution_count": null,
      "metadata": {
        "collapsed": true,
        "id": "cQT2ckWwU82B"
      },
      "outputs": [],
      "source": [
        "phi = np.arange(0, 10*np.pi, 0.1)\n",
        "a = 1\n",
        "x = a*phi*np.cos(phi)\n",
        "y = a*phi*np.sin(phi)\n",
        "\n",
        "dr = (np.diff(x)**2 + np.diff(y)**2)**.5 \n",
        "r = np.zeros_like(x)\n",
        "r[1:] = np.cumsum(dr)                \n",
        "r_int = np.linspace(0, r.max(), 200) \n",
        "x_int = np.interp(r_int, r, x)       \n",
        "y_int = np.interp(r_int, r, y)\n",
        "     "
      ]
    },
    {
      "cell_type": "markdown",
      "metadata": {
        "id": "jxP0ukZ7U82C"
      },
      "source": [
        "#### 99. Given an integer n and a 2D array X, select from X the rows which can be interpreted as draws from a multinomial distribution with n degrees, i.e., the rows which only contain integers and which sum to n. (★★★) \n",
        "(**hint**: np.logical\\_and.reduce, np.mod)"
      ]
    },
    {
      "cell_type": "code",
      "execution_count": null,
      "metadata": {
        "id": "xQHFq3sTU82C",
        "colab": {
          "base_uri": "https://localhost:8080/"
        },
        "outputId": "ae5968ff-cc27-454c-858e-5a3707aaf921"
      },
      "outputs": [
        {
          "output_type": "execute_result",
          "data": {
            "text/plain": [
              "array([[2., 0., 1., 1.]])"
            ]
          },
          "metadata": {},
          "execution_count": 6
        }
      ],
      "source": [
        "X = np.asarray([[1.0, 0.0, 3.0, 8.0],\n",
        "                [2.0, 0.0, 1.0, 1.0],\n",
        "                [1.5, 2.5, 1.0, 0.0]])\n",
        "n = 4\n",
        "M = np.logical_and.reduce(np.mod(X, 1) == 0, axis=-1)\n",
        "M &= (X.sum(axis=-1) == n)\n",
        "X[M]"
      ]
    },
    {
      "cell_type": "markdown",
      "metadata": {
        "id": "cCRsyrPRU82C"
      },
      "source": [
        "#### 100. Compute bootstrapped 95% confidence intervals for the mean of a 1D array X (i.e., resample the elements of an array with replacement N times, compute the mean of each sample, and then compute percentiles over the means). (★★★) \n",
        "(**hint**: np.percentile)"
      ]
    },
    {
      "cell_type": "code",
      "execution_count": null,
      "metadata": {
        "id": "lOy6yc9hU82C",
        "colab": {
          "base_uri": "https://localhost:8080/"
        },
        "outputId": "0b64a599-ceee-4329-b69f-d18873b0ca18"
      },
      "outputs": [
        {
          "output_type": "execute_result",
          "data": {
            "text/plain": [
              "array([-0.02795904,  0.32164096])"
            ]
          },
          "metadata": {},
          "execution_count": 7
        }
      ],
      "source": [
        "X = np.random.randn(100) \n",
        "N = 1000\n",
        "idx = np.random.randint(0, X.size, (N, X.size))\n",
        "means = X[idx].mean(axis=1)\n",
        "confint = np.percentile(means, [2.5, 97.5])\n",
        "confint\n",
        "     "
      ]
    }
  ],
  "metadata": {
    "kernelspec": {
      "display_name": "Python 3",
      "language": "python",
      "name": "python3"
    },
    "language_info": {
      "codemirror_mode": {
        "name": "ipython",
        "version": 3
      },
      "file_extension": ".py",
      "mimetype": "text/x-python",
      "name": "python",
      "nbconvert_exporter": "python",
      "pygments_lexer": "ipython3",
      "version": "3.8.3"
    },
    "colab": {
      "provenance": []
    }
  },
  "nbformat": 4,
  "nbformat_minor": 0
}